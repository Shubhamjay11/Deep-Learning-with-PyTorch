{
  "nbformat": 4,
  "nbformat_minor": 0,
  "metadata": {
    "colab": {
      "name": "Tensors.ipynb",
      "provenance": [],
      "mount_file_id": "1aMgHSVI_OEZk4XDF3abFAs4y93-eXJGu",
      "authorship_tag": "ABX9TyMcXWRUBWkwz61B1GuFqSI1",
      "include_colab_link": true
    },
    "kernelspec": {
      "name": "python3",
      "display_name": "Python 3"
    },
    "accelerator": "GPU"
  },
  "cells": [
    {
      "cell_type": "markdown",
      "metadata": {
        "id": "view-in-github",
        "colab_type": "text"
      },
      "source": [
        "<a href=\"https://colab.research.google.com/github/Gladiator07/Deep-Learning-with-PyTorch/blob/main/Tensors.ipynb\" target=\"_parent\"><img src=\"https://colab.research.google.com/assets/colab-badge.svg\" alt=\"Open In Colab\"/></a>"
      ]
    },
    {
      "cell_type": "code",
      "metadata": {
        "colab": {
          "base_uri": "https://localhost:8080/"
        },
        "id": "zBaTJyzHFbpz",
        "outputId": "a0abec7c-9af5-4f3a-d8b0-c069c796a577"
      },
      "source": [
        "import torch\r\n",
        "a = torch.ones(3)\r\n",
        "a"
      ],
      "execution_count": 2,
      "outputs": [
        {
          "output_type": "execute_result",
          "data": {
            "text/plain": [
              "tensor([1., 1., 1.])"
            ]
          },
          "metadata": {
            "tags": []
          },
          "execution_count": 2
        }
      ]
    },
    {
      "cell_type": "code",
      "metadata": {
        "colab": {
          "base_uri": "https://localhost:8080/"
        },
        "id": "DkyFzR_OFiLI",
        "outputId": "2794183d-d085-48fb-cfdc-a52e3785fefd"
      },
      "source": [
        "a[1]"
      ],
      "execution_count": 3,
      "outputs": [
        {
          "output_type": "execute_result",
          "data": {
            "text/plain": [
              "tensor(1.)"
            ]
          },
          "metadata": {
            "tags": []
          },
          "execution_count": 3
        }
      ]
    },
    {
      "cell_type": "code",
      "metadata": {
        "colab": {
          "base_uri": "https://localhost:8080/"
        },
        "id": "gjThjAy3FlQO",
        "outputId": "ffdcf6f8-0d26-461d-a351-b7b36ecfaed5"
      },
      "source": [
        "float(a[1])"
      ],
      "execution_count": 4,
      "outputs": [
        {
          "output_type": "execute_result",
          "data": {
            "text/plain": [
              "1.0"
            ]
          },
          "metadata": {
            "tags": []
          },
          "execution_count": 4
        }
      ]
    },
    {
      "cell_type": "code",
      "metadata": {
        "colab": {
          "base_uri": "https://localhost:8080/"
        },
        "id": "BhnjDJAxFos2",
        "outputId": "53acecd5-1039-4a6a-ab3d-3df84e71b4b6"
      },
      "source": [
        "a[2] = 2.0\r\n",
        "a"
      ],
      "execution_count": 5,
      "outputs": [
        {
          "output_type": "execute_result",
          "data": {
            "text/plain": [
              "tensor([1., 1., 2.])"
            ]
          },
          "metadata": {
            "tags": []
          },
          "execution_count": 5
        }
      ]
    },
    {
      "cell_type": "code",
      "metadata": {
        "id": "o0IUlgwwFs5-"
      },
      "source": [
        "points = torch.zeros(6)\r\n",
        "points[0] = 4.0\r\n",
        "points[1] = 1.0\r\n",
        "points[2] = 5.0\r\n",
        "points[3] = 3.0\r\n",
        "points[4] = 2.0\r\n",
        "points[5] = 1.0"
      ],
      "execution_count": 6,
      "outputs": []
    },
    {
      "cell_type": "code",
      "metadata": {
        "colab": {
          "base_uri": "https://localhost:8080/"
        },
        "id": "2Y6rvPOIHzqD",
        "outputId": "9a29b57b-9981-4f71-c5ad-2a3ffdcf551e"
      },
      "source": [
        "points"
      ],
      "execution_count": 7,
      "outputs": [
        {
          "output_type": "execute_result",
          "data": {
            "text/plain": [
              "tensor([4., 1., 5., 3., 2., 1.])"
            ]
          },
          "metadata": {
            "tags": []
          },
          "execution_count": 7
        }
      ]
    },
    {
      "cell_type": "code",
      "metadata": {
        "colab": {
          "base_uri": "https://localhost:8080/"
        },
        "id": "FcXAbGP6H0ME",
        "outputId": "62b0dd64-6351-4c22-9c77-9ebc9d26c444"
      },
      "source": [
        "points = torch.tensor([4.0, 1, 5.0, 3.0, 2.0, 1.0])\r\n",
        "points"
      ],
      "execution_count": 8,
      "outputs": [
        {
          "output_type": "execute_result",
          "data": {
            "text/plain": [
              "tensor([4., 1., 5., 3., 2., 1.])"
            ]
          },
          "metadata": {
            "tags": []
          },
          "execution_count": 8
        }
      ]
    },
    {
      "cell_type": "code",
      "metadata": {
        "colab": {
          "base_uri": "https://localhost:8080/"
        },
        "id": "NT-Tbvm-H7k8",
        "outputId": "aa66c3a7-6e58-44dc-9ca6-21911f175002"
      },
      "source": [
        "float(points[0]), float(points[1])"
      ],
      "execution_count": 9,
      "outputs": [
        {
          "output_type": "execute_result",
          "data": {
            "text/plain": [
              "(4.0, 1.0)"
            ]
          },
          "metadata": {
            "tags": []
          },
          "execution_count": 9
        }
      ]
    },
    {
      "cell_type": "code",
      "metadata": {
        "colab": {
          "base_uri": "https://localhost:8080/"
        },
        "id": "zcQ2QHauItbw",
        "outputId": "a37c8a45-176b-42c1-f5e6-9f2f908b3b06"
      },
      "source": [
        "points = torch.zeros(3,2)\r\n",
        "points"
      ],
      "execution_count": 10,
      "outputs": [
        {
          "output_type": "execute_result",
          "data": {
            "text/plain": [
              "tensor([[0., 0.],\n",
              "        [0., 0.],\n",
              "        [0., 0.]])"
            ]
          },
          "metadata": {
            "tags": []
          },
          "execution_count": 10
        }
      ]
    },
    {
      "cell_type": "code",
      "metadata": {
        "colab": {
          "base_uri": "https://localhost:8080/"
        },
        "id": "kRIDl8oLIJU0",
        "outputId": "85fa7fd4-955b-4e52-a2a2-5f0bbd82f143"
      },
      "source": [
        "# 2-D tensor\r\n",
        "points = torch.tensor([[4.0, 1.0], [5.0, 3.0], [2.0, 1.0]])\r\n",
        "points"
      ],
      "execution_count": 11,
      "outputs": [
        {
          "output_type": "execute_result",
          "data": {
            "text/plain": [
              "tensor([[4., 1.],\n",
              "        [5., 3.],\n",
              "        [2., 1.]])"
            ]
          },
          "metadata": {
            "tags": []
          },
          "execution_count": 11
        }
      ]
    },
    {
      "cell_type": "code",
      "metadata": {
        "colab": {
          "base_uri": "https://localhost:8080/"
        },
        "id": "bsEfx1AUIhij",
        "outputId": "4f949180-30de-49b4-d024-c2533b4aa3b9"
      },
      "source": [
        "points.shape"
      ],
      "execution_count": 12,
      "outputs": [
        {
          "output_type": "execute_result",
          "data": {
            "text/plain": [
              "torch.Size([3, 2])"
            ]
          },
          "metadata": {
            "tags": []
          },
          "execution_count": 12
        }
      ]
    },
    {
      "cell_type": "code",
      "metadata": {
        "colab": {
          "base_uri": "https://localhost:8080/"
        },
        "id": "9fJlDY0jIljb",
        "outputId": "8d19ce8a-58ee-400c-e2e3-55ae9d71e379"
      },
      "source": [
        "points[0,1]"
      ],
      "execution_count": 13,
      "outputs": [
        {
          "output_type": "execute_result",
          "data": {
            "text/plain": [
              "tensor(1.)"
            ]
          },
          "metadata": {
            "tags": []
          },
          "execution_count": 13
        }
      ]
    },
    {
      "cell_type": "code",
      "metadata": {
        "colab": {
          "base_uri": "https://localhost:8080/"
        },
        "id": "9IcXQzzXI6LB",
        "outputId": "3d4351a2-ed60-454e-a324-b43be6818130"
      },
      "source": [
        "points[1,1]"
      ],
      "execution_count": 14,
      "outputs": [
        {
          "output_type": "execute_result",
          "data": {
            "text/plain": [
              "tensor(3.)"
            ]
          },
          "metadata": {
            "tags": []
          },
          "execution_count": 14
        }
      ]
    },
    {
      "cell_type": "code",
      "metadata": {
        "colab": {
          "base_uri": "https://localhost:8080/"
        },
        "id": "9_QSb672I-DL",
        "outputId": "88acbbf9-2044-4dd1-97a6-20ceba1b2b05"
      },
      "source": [
        "points[0]"
      ],
      "execution_count": 15,
      "outputs": [
        {
          "output_type": "execute_result",
          "data": {
            "text/plain": [
              "tensor([4., 1.])"
            ]
          },
          "metadata": {
            "tags": []
          },
          "execution_count": 15
        }
      ]
    },
    {
      "cell_type": "code",
      "metadata": {
        "colab": {
          "base_uri": "https://localhost:8080/"
        },
        "id": "Sdk75PGbJBET",
        "outputId": "f18d6472-d295-4daf-a554-727a811a694d"
      },
      "source": [
        "# all rows after the first; implicitly all columns\r\n",
        "points[1:]"
      ],
      "execution_count": 16,
      "outputs": [
        {
          "output_type": "execute_result",
          "data": {
            "text/plain": [
              "tensor([[5., 3.],\n",
              "        [2., 1.]])"
            ]
          },
          "metadata": {
            "tags": []
          },
          "execution_count": 16
        }
      ]
    },
    {
      "cell_type": "code",
      "metadata": {
        "colab": {
          "base_uri": "https://localhost:8080/"
        },
        "id": "jqBWX46oJcFy",
        "outputId": "2c3d351f-bae1-4302-cd75-461571505b8e"
      },
      "source": [
        "points[1:, :]"
      ],
      "execution_count": 17,
      "outputs": [
        {
          "output_type": "execute_result",
          "data": {
            "text/plain": [
              "tensor([[5., 3.],\n",
              "        [2., 1.]])"
            ]
          },
          "metadata": {
            "tags": []
          },
          "execution_count": 17
        }
      ]
    },
    {
      "cell_type": "code",
      "metadata": {
        "colab": {
          "base_uri": "https://localhost:8080/"
        },
        "id": "8nfbd5XGJjI6",
        "outputId": "edc12c32-609a-40d9-b95f-b60ea577b96f"
      },
      "source": [
        "# all rows after the first; first column\r\n",
        "points[1:, 0]"
      ],
      "execution_count": 18,
      "outputs": [
        {
          "output_type": "execute_result",
          "data": {
            "text/plain": [
              "tensor([5., 2.])"
            ]
          },
          "metadata": {
            "tags": []
          },
          "execution_count": 18
        }
      ]
    },
    {
      "cell_type": "code",
      "metadata": {
        "id": "qqvHzEaxJphC"
      },
      "source": [
        "# adds a dimension of size 1, just like unsqueeze\r\n",
        "a = points[None]"
      ],
      "execution_count": 19,
      "outputs": []
    },
    {
      "cell_type": "code",
      "metadata": {
        "colab": {
          "base_uri": "https://localhost:8080/"
        },
        "id": "m3lEf4CMJuIZ",
        "outputId": "7b27e99c-c83d-4299-cce2-ffe317ae5f69"
      },
      "source": [
        "a.shape"
      ],
      "execution_count": 20,
      "outputs": [
        {
          "output_type": "execute_result",
          "data": {
            "text/plain": [
              "torch.Size([1, 3, 2])"
            ]
          },
          "metadata": {
            "tags": []
          },
          "execution_count": 20
        }
      ]
    },
    {
      "cell_type": "code",
      "metadata": {
        "id": "bnINASZdJ53y"
      },
      "source": [
        "img_t = torch.randn(3, 5, 5)  # shape [channels, rows, columns]\r\n",
        "weights = torch.tensor([0.2126, 0.7152, 0.0722])"
      ],
      "execution_count": 21,
      "outputs": []
    },
    {
      "cell_type": "code",
      "metadata": {
        "id": "IUcdhcECYyAL"
      },
      "source": [
        "batch_t = torch.randn(2, 3, 5, 5) # shape [batch, channels, rows, columns]"
      ],
      "execution_count": 22,
      "outputs": []
    },
    {
      "cell_type": "code",
      "metadata": {
        "colab": {
          "base_uri": "https://localhost:8080/"
        },
        "id": "lZxHvu9MZBKJ",
        "outputId": "b6cb91a7-0956-436a-ce9e-235d1e9ef07b"
      },
      "source": [
        "img_gray_naive = img_t.mean(-3)\r\n",
        "batch_gray_naive = batch_t.mean(-3)\r\n",
        "img_gray_naive.shape, batch_gray_naive.shape"
      ],
      "execution_count": 23,
      "outputs": [
        {
          "output_type": "execute_result",
          "data": {
            "text/plain": [
              "(torch.Size([5, 5]), torch.Size([2, 5, 5]))"
            ]
          },
          "metadata": {
            "tags": []
          },
          "execution_count": 23
        }
      ]
    },
    {
      "cell_type": "code",
      "metadata": {
        "colab": {
          "base_uri": "https://localhost:8080/"
        },
        "id": "ZaUwLc8ZZLJa",
        "outputId": "11dbbb26-514e-4397-fd2d-b12062a0498d"
      },
      "source": [
        "print(weights)\r\n",
        "print(weights.shape)\r\n",
        "unsqueezed_weights = weights.unsqueeze(1).unsqueeze_(-1)\r\n",
        "print(unsqueezed_weights)\r\n",
        "print(unsqueezed_weights.shape)"
      ],
      "execution_count": 24,
      "outputs": [
        {
          "output_type": "stream",
          "text": [
            "tensor([0.2126, 0.7152, 0.0722])\n",
            "torch.Size([3])\n",
            "tensor([[[0.2126]],\n",
            "\n",
            "        [[0.7152]],\n",
            "\n",
            "        [[0.0722]]])\n",
            "torch.Size([3, 1, 1])\n"
          ],
          "name": "stdout"
        }
      ]
    },
    {
      "cell_type": "code",
      "metadata": {
        "colab": {
          "base_uri": "https://localhost:8080/"
        },
        "id": "5sX4Pb3KaRPp",
        "outputId": "e8b1e12d-5033-4cd8-dde8-9af9f6e56ced"
      },
      "source": [
        "img_weights = (img_t * unsqueezed_weights)\r\n",
        "batch_weights = (batch_t * unsqueezed_weights)\r\n",
        "# print(img_weights)\r\n",
        "# print(batch_weights)\r\n",
        "print(img_weights.shape)\r\n",
        "print(batch_weights.shape)"
      ],
      "execution_count": 25,
      "outputs": [
        {
          "output_type": "stream",
          "text": [
            "torch.Size([3, 5, 5])\n",
            "torch.Size([2, 3, 5, 5])\n"
          ],
          "name": "stdout"
        }
      ]
    },
    {
      "cell_type": "code",
      "metadata": {
        "colab": {
          "base_uri": "https://localhost:8080/"
        },
        "id": "R11Icziebk3e",
        "outputId": "f83c5ea1-666f-4524-f31a-36155185a2c4"
      },
      "source": [
        "img_gray_weighted = img_weights.sum(-3)\r\n",
        "batch_gray_weighted = batch_weights.sum(-3)\r\n",
        "batch_weights.shape, batch_t.shape, unsqueezed_weights.shape"
      ],
      "execution_count": 26,
      "outputs": [
        {
          "output_type": "execute_result",
          "data": {
            "text/plain": [
              "(torch.Size([2, 3, 5, 5]), torch.Size([2, 3, 5, 5]), torch.Size([3, 1, 1]))"
            ]
          },
          "metadata": {
            "tags": []
          },
          "execution_count": 26
        }
      ]
    },
    {
      "cell_type": "markdown",
      "metadata": {
        "id": "9-PIQnBtdIPz"
      },
      "source": [
        "## Named Tensor"
      ]
    },
    {
      "cell_type": "code",
      "metadata": {
        "colab": {
          "base_uri": "https://localhost:8080/"
        },
        "id": "gQE-9BFacWVv",
        "outputId": "99c23fc9-a7c5-482e-d659-aedd03a655a5"
      },
      "source": [
        "weights_named = torch.tensor([0.2126, 0.7152, 0.0722], names=['channels'])\r\n",
        "weights_named"
      ],
      "execution_count": 27,
      "outputs": [
        {
          "output_type": "stream",
          "text": [
            "/usr/local/lib/python3.6/dist-packages/ipykernel_launcher.py:1: UserWarning: Named tensors and all their associated APIs are an experimental feature and subject to change. Please do not use them for anything important until they are released as stable. (Triggered internally at  /pytorch/c10/core/TensorImpl.h:848.)\n",
            "  \"\"\"Entry point for launching an IPython kernel.\n"
          ],
          "name": "stderr"
        },
        {
          "output_type": "execute_result",
          "data": {
            "text/plain": [
              "tensor([0.2126, 0.7152, 0.0722], names=('channels',))"
            ]
          },
          "metadata": {
            "tags": []
          },
          "execution_count": 27
        }
      ]
    },
    {
      "cell_type": "code",
      "metadata": {
        "colab": {
          "base_uri": "https://localhost:8080/"
        },
        "id": "A8Izh3fxdTaY",
        "outputId": "c9325b6b-cc0e-442c-f00c-1848b265f0de"
      },
      "source": [
        "img_named = img_t.refine_names(..., 'channels', 'rows', 'columns') \r\n",
        "batch_named = batch_t.refine_names(..., 'channels', 'rows', 'columns') \r\n",
        "print(\"img named:\", img_named.shape, img_named.names) \r\n",
        "print(\"batch named:\", batch_named.shape, batch_named.names)"
      ],
      "execution_count": 28,
      "outputs": [
        {
          "output_type": "stream",
          "text": [
            "img named: torch.Size([3, 5, 5]) ('channels', 'rows', 'columns')\n",
            "batch named: torch.Size([2, 3, 5, 5]) (None, 'channels', 'rows', 'columns')\n"
          ],
          "name": "stdout"
        }
      ]
    },
    {
      "cell_type": "code",
      "metadata": {
        "colab": {
          "base_uri": "https://localhost:8080/"
        },
        "id": "MNl_fh28djVb",
        "outputId": "66f8df73-9c9c-45ab-cde6-4015d1c1a5cc"
      },
      "source": [
        "weights_aligned = weights_named.align_as(img_named)\r\n",
        "weights_aligned.shape, weights_aligned.names"
      ],
      "execution_count": 29,
      "outputs": [
        {
          "output_type": "execute_result",
          "data": {
            "text/plain": [
              "(torch.Size([3, 1, 1]), ('channels', 'rows', 'columns'))"
            ]
          },
          "metadata": {
            "tags": []
          },
          "execution_count": 29
        }
      ]
    },
    {
      "cell_type": "code",
      "metadata": {
        "colab": {
          "base_uri": "https://localhost:8080/"
        },
        "id": "G5ZBy8KveDyV",
        "outputId": "9b98d05a-e12a-45f2-a7fc-43106e2adc55"
      },
      "source": [
        "gray_named = (img_named * weights_aligned).sum('channels')\r\n",
        "gray_named.shape, gray_named.names"
      ],
      "execution_count": 30,
      "outputs": [
        {
          "output_type": "execute_result",
          "data": {
            "text/plain": [
              "(torch.Size([5, 5]), ('rows', 'columns'))"
            ]
          },
          "metadata": {
            "tags": []
          },
          "execution_count": 30
        }
      ]
    },
    {
      "cell_type": "code",
      "metadata": {
        "colab": {
          "base_uri": "https://localhost:8080/"
        },
        "id": "e9UpU0OfeNA-",
        "outputId": "0b462503-b57c-43a6-96cd-035b20dfcf6f"
      },
      "source": [
        "gray_plain = gray_named.rename(None)\r\n",
        "gray_plain.shape, gray_plain.names"
      ],
      "execution_count": 31,
      "outputs": [
        {
          "output_type": "execute_result",
          "data": {
            "text/plain": [
              "(torch.Size([5, 5]), (None, None))"
            ]
          },
          "metadata": {
            "tags": []
          },
          "execution_count": 31
        }
      ]
    },
    {
      "cell_type": "markdown",
      "metadata": {
        "id": "xnIhJCRbggf5"
      },
      "source": [
        "## Data-Types"
      ]
    },
    {
      "cell_type": "code",
      "metadata": {
        "id": "2Dp7Qc4zebZk"
      },
      "source": [
        "double_points = torch.ones(10, 2, dtype=torch.double)\r\n",
        "short_points = torch.tensor([[1,2], [3, 4]], dtype=torch.short)"
      ],
      "execution_count": 32,
      "outputs": []
    },
    {
      "cell_type": "code",
      "metadata": {
        "colab": {
          "base_uri": "https://localhost:8080/"
        },
        "id": "9TT_4wOyguhT",
        "outputId": "450c1c09-b086-4e48-df26-583f82b60b95"
      },
      "source": [
        "short_points.dtype"
      ],
      "execution_count": 33,
      "outputs": [
        {
          "output_type": "execute_result",
          "data": {
            "text/plain": [
              "torch.int16"
            ]
          },
          "metadata": {
            "tags": []
          },
          "execution_count": 33
        }
      ]
    },
    {
      "cell_type": "code",
      "metadata": {
        "id": "Q_zz1eTwgw4a"
      },
      "source": [
        "# casting \r\n",
        "double_points = torch.zeros(10, 2).double()\r\n",
        "short_points = torch.ones(10, 2).short()"
      ],
      "execution_count": 34,
      "outputs": []
    },
    {
      "cell_type": "code",
      "metadata": {
        "id": "ezueFGg3hA42"
      },
      "source": [
        "# more convenient method\r\n",
        "double_points = torch.zeros(10, 2).to(torch.double)\r\n",
        "short_points = torch.ones(10, 2).to(dtype=torch.short)"
      ],
      "execution_count": 35,
      "outputs": []
    },
    {
      "cell_type": "code",
      "metadata": {
        "colab": {
          "base_uri": "https://localhost:8080/"
        },
        "id": "rTXl-XOFhPoh",
        "outputId": "35942288-e90a-4a7f-e761-05a674f5fbe9"
      },
      "source": [
        "# mixing input types in operations\r\n",
        "points_64 = torch.rand(5, dtype=torch.double)\r\n",
        "points_short = points_64.to(torch.short)\r\n",
        "points_64 * points_short"
      ],
      "execution_count": 36,
      "outputs": [
        {
          "output_type": "execute_result",
          "data": {
            "text/plain": [
              "tensor([0., 0., 0., 0., 0.], dtype=torch.float64)"
            ]
          },
          "metadata": {
            "tags": []
          },
          "execution_count": 36
        }
      ]
    },
    {
      "cell_type": "markdown",
      "metadata": {
        "id": "i_5dLUeahwOs"
      },
      "source": [
        "## The Tensor API"
      ]
    },
    {
      "cell_type": "code",
      "metadata": {
        "colab": {
          "base_uri": "https://localhost:8080/"
        },
        "id": "bVKZWup_hmcq",
        "outputId": "1290f366-aa25-45bd-fc81-1e8496718e60"
      },
      "source": [
        "a = torch.ones(3,2)\r\n",
        "a_t = torch.transpose(a, 0, 1)\r\n",
        "a.shape, a_t.shape"
      ],
      "execution_count": 37,
      "outputs": [
        {
          "output_type": "execute_result",
          "data": {
            "text/plain": [
              "(torch.Size([3, 2]), torch.Size([2, 3]))"
            ]
          },
          "metadata": {
            "tags": []
          },
          "execution_count": 37
        }
      ]
    },
    {
      "cell_type": "code",
      "metadata": {
        "colab": {
          "base_uri": "https://localhost:8080/"
        },
        "id": "qjTjx4w2h05h",
        "outputId": "4d758bbe-8113-4f6b-e289-0efb7169796c"
      },
      "source": [
        "# method of a tensor\r\n",
        "a = torch.ones(3, 2)\r\n",
        "a_t = a.transpose(0, 1)\r\n",
        "a.shape, a_t.shape"
      ],
      "execution_count": 38,
      "outputs": [
        {
          "output_type": "execute_result",
          "data": {
            "text/plain": [
              "(torch.Size([3, 2]), torch.Size([2, 3]))"
            ]
          },
          "metadata": {
            "tags": []
          },
          "execution_count": 38
        }
      ]
    },
    {
      "cell_type": "markdown",
      "metadata": {
        "id": "6k1AFH1XlpFL"
      },
      "source": [
        "## Indexing into Storage"
      ]
    },
    {
      "cell_type": "code",
      "metadata": {
        "colab": {
          "base_uri": "https://localhost:8080/"
        },
        "id": "NjRSvmZRlH3V",
        "outputId": "0383fd32-2d74-4164-d605-0238b2313142"
      },
      "source": [
        "points = torch.tensor([[4.0, 1.0], [5.0, 3.0], [2.0, 1.0]])\r\n",
        "points.storage()"
      ],
      "execution_count": 39,
      "outputs": [
        {
          "output_type": "execute_result",
          "data": {
            "text/plain": [
              " 4.0\n",
              " 1.0\n",
              " 5.0\n",
              " 3.0\n",
              " 2.0\n",
              " 1.0\n",
              "[torch.FloatStorage of size 6]"
            ]
          },
          "metadata": {
            "tags": []
          },
          "execution_count": 39
        }
      ]
    },
    {
      "cell_type": "markdown",
      "metadata": {
        "id": "v-gtokOTl6q3"
      },
      "source": [
        "Even though the tensor reports itself as having three rows and two columns, the storage under the hood is a contiguous array of size 6. In this sense, the tensor just knows how to translate a pair of indices into a location in the storage. "
      ]
    },
    {
      "cell_type": "code",
      "metadata": {
        "colab": {
          "base_uri": "https://localhost:8080/"
        },
        "id": "3q7NYoZulybF",
        "outputId": "fc68a293-ca10-451f-df0f-214e3a143d2e"
      },
      "source": [
        "# indexing into storage\r\n",
        "points_storage = points.storage()\r\n",
        "points_storage[0]"
      ],
      "execution_count": 40,
      "outputs": [
        {
          "output_type": "execute_result",
          "data": {
            "text/plain": [
              "4.0"
            ]
          },
          "metadata": {
            "tags": []
          },
          "execution_count": 40
        }
      ]
    },
    {
      "cell_type": "code",
      "metadata": {
        "colab": {
          "base_uri": "https://localhost:8080/"
        },
        "id": "zoupuX7MmBWd",
        "outputId": "8ef64ef3-89c1-4c02-d3a3-9d7c8d93c119"
      },
      "source": [
        "points.storage()[1]"
      ],
      "execution_count": 41,
      "outputs": [
        {
          "output_type": "execute_result",
          "data": {
            "text/plain": [
              "1.0"
            ]
          },
          "metadata": {
            "tags": []
          },
          "execution_count": 41
        }
      ]
    },
    {
      "cell_type": "code",
      "metadata": {
        "colab": {
          "base_uri": "https://localhost:8080/"
        },
        "id": "Azr9iVKtmGSz",
        "outputId": "6f87c88c-bc64-4385-b381-5dad51a6828f"
      },
      "source": [
        "# changing the value of a tensor\r\n",
        "points = torch.tensor([[4.0, 1.0], [5.0, 3.0], [2.0, 1.0]])\r\n",
        "points_storage = points.storage()\r\n",
        "points_storage[0] = 2.0\r\n",
        "points"
      ],
      "execution_count": 42,
      "outputs": [
        {
          "output_type": "execute_result",
          "data": {
            "text/plain": [
              "tensor([[2., 1.],\n",
              "        [5., 3.],\n",
              "        [2., 1.]])"
            ]
          },
          "metadata": {
            "tags": []
          },
          "execution_count": 42
        }
      ]
    },
    {
      "cell_type": "markdown",
      "metadata": {
        "id": "QfrDBRhfmuFT"
      },
      "source": [
        "## Modifying stored values: In-place operations"
      ]
    },
    {
      "cell_type": "markdown",
      "metadata": {
        "id": "fKrJdEo0m9Ta"
      },
      "source": [
        "A small number of operations exist only as methods of the Tensor object. They are recognizable from a trailing underscore in their name, like zero_, which indicates that the method operates in place by modifying the input instead of creating a new output tensor and returning it. For instance, the zero_ method zeros out all the elements of the input. Any method without the trailing underscore leaves the source tensor unchanged and instead returns a new tensor: "
      ]
    },
    {
      "cell_type": "code",
      "metadata": {
        "colab": {
          "base_uri": "https://localhost:8080/"
        },
        "id": "vTf3sLe0mZbN",
        "outputId": "a435726f-881f-472b-ea2d-de653af824b4"
      },
      "source": [
        "a = torch.ones(3,2)\r\n",
        "a.zero_()\r\n",
        "a"
      ],
      "execution_count": 43,
      "outputs": [
        {
          "output_type": "execute_result",
          "data": {
            "text/plain": [
              "tensor([[0., 0.],\n",
              "        [0., 0.],\n",
              "        [0., 0.]])"
            ]
          },
          "metadata": {
            "tags": []
          },
          "execution_count": 43
        }
      ]
    },
    {
      "cell_type": "markdown",
      "metadata": {
        "id": "iu0Mga9unDvz"
      },
      "source": [
        "## Tensor metadata: Size, offset, and stride"
      ]
    },
    {
      "cell_type": "markdown",
      "metadata": {
        "id": "cIdvlqEonO45"
      },
      "source": [
        "In order to index into a storage, tensors rely on a few pieces of information that, together with their storage, unequivocally define them: size, offset, and stride."
      ]
    },
    {
      "cell_type": "markdown",
      "metadata": {
        "id": "utcQZAf8ohCi"
      },
      "source": [
        "The size (or shape, in NumPy parlance) is a tuple indicating how many elements across each dimension the tensor represents. The storage offset is the index in the storage corresponding to the first element in the tensor. The stride is the number of elements in the storage that need to be skipped over to obtain the next element along each dimension."
      ]
    },
    {
      "cell_type": "markdown",
      "metadata": {
        "id": "o_QQsB8No69X"
      },
      "source": [
        "### Views of another tensor's storage"
      ]
    },
    {
      "cell_type": "code",
      "metadata": {
        "colab": {
          "base_uri": "https://localhost:8080/"
        },
        "id": "csw4sgl3m1M0",
        "outputId": "5b60f61f-89c6-45ec-cb1d-4031826f35a3"
      },
      "source": [
        "points = torch.tensor([[4.0, 1.0], [5.0, 3.0], [2.0, 1.0]])\r\n",
        "second_point = points[1]\r\n",
        "second_point.storage_offset()"
      ],
      "execution_count": 44,
      "outputs": [
        {
          "output_type": "execute_result",
          "data": {
            "text/plain": [
              "2"
            ]
          },
          "metadata": {
            "tags": []
          },
          "execution_count": 44
        }
      ]
    },
    {
      "cell_type": "code",
      "metadata": {
        "colab": {
          "base_uri": "https://localhost:8080/"
        },
        "id": "44E5By24pJWN",
        "outputId": "a94e746c-93db-458f-b8b4-5d172c41b8c2"
      },
      "source": [
        "second_point.size()"
      ],
      "execution_count": 45,
      "outputs": [
        {
          "output_type": "execute_result",
          "data": {
            "text/plain": [
              "torch.Size([2])"
            ]
          },
          "metadata": {
            "tags": []
          },
          "execution_count": 45
        }
      ]
    },
    {
      "cell_type": "code",
      "metadata": {
        "colab": {
          "base_uri": "https://localhost:8080/"
        },
        "id": "CN4JAjshpLp6",
        "outputId": "13172aec-9f92-421a-9a10-8ba5d9baafa0"
      },
      "source": [
        "points.stride()"
      ],
      "execution_count": 46,
      "outputs": [
        {
          "output_type": "execute_result",
          "data": {
            "text/plain": [
              "(2, 1)"
            ]
          },
          "metadata": {
            "tags": []
          },
          "execution_count": 46
        }
      ]
    },
    {
      "cell_type": "code",
      "metadata": {
        "colab": {
          "base_uri": "https://localhost:8080/"
        },
        "id": "QliocGdspUmD",
        "outputId": "382f2ea4-d80b-4998-a3bc-8acd319d7050"
      },
      "source": [
        "second_point = points[1]\r\n",
        "second_point.size()"
      ],
      "execution_count": 47,
      "outputs": [
        {
          "output_type": "execute_result",
          "data": {
            "text/plain": [
              "torch.Size([2])"
            ]
          },
          "metadata": {
            "tags": []
          },
          "execution_count": 47
        }
      ]
    },
    {
      "cell_type": "code",
      "metadata": {
        "colab": {
          "base_uri": "https://localhost:8080/"
        },
        "id": "ayu0FHuUpckS",
        "outputId": "c1d18cf7-afd5-45da-d5fd-6a585b3c9ee7"
      },
      "source": [
        "second_point.storage_offset()"
      ],
      "execution_count": 48,
      "outputs": [
        {
          "output_type": "execute_result",
          "data": {
            "text/plain": [
              "2"
            ]
          },
          "metadata": {
            "tags": []
          },
          "execution_count": 48
        }
      ]
    },
    {
      "cell_type": "code",
      "metadata": {
        "colab": {
          "base_uri": "https://localhost:8080/"
        },
        "id": "iJ_6N8vypf0K",
        "outputId": "ffcc7f1a-cc16-4a0f-8af7-4c6cbdc6b890"
      },
      "source": [
        "second_point.stride()"
      ],
      "execution_count": 49,
      "outputs": [
        {
          "output_type": "execute_result",
          "data": {
            "text/plain": [
              "(1,)"
            ]
          },
          "metadata": {
            "tags": []
          },
          "execution_count": 49
        }
      ]
    },
    {
      "cell_type": "code",
      "metadata": {
        "colab": {
          "base_uri": "https://localhost:8080/"
        },
        "id": "lQ6TfV7kqXY2",
        "outputId": "f591b191-68ea-4781-ca9b-9406a4e539ca"
      },
      "source": [
        "points.stride()"
      ],
      "execution_count": 50,
      "outputs": [
        {
          "output_type": "execute_result",
          "data": {
            "text/plain": [
              "(2, 1)"
            ]
          },
          "metadata": {
            "tags": []
          },
          "execution_count": 50
        }
      ]
    },
    {
      "cell_type": "markdown",
      "metadata": {
        "id": "y2oZrGhpqUIh"
      },
      "source": [
        "The stride is a tuple indicating the number of elements in the storage that have to be skipped when the index is increased by 1 in each dimension. For instance, our points tensor has a stride of (2, 1)"
      ]
    },
    {
      "cell_type": "markdown",
      "metadata": {
        "id": "IGmAdUyGqd_I"
      },
      "source": [
        "Accessing an element i, j in a 2D tensor results in accessing the storage_offset + stride[0] * i + stride[1] * j element in the storage. The offset will usually be zero; if this tensor is a view of a storage created to hold a larger tensor, the offset might be a positive value. This indirection between Tensor and Storage makes some operations inexpensive, like transposing a tensor or extracting a subtensor, because they do not lead to memory reallocations. Instead, they consist of allocating a new Tensor object with a different value for size, storage offset, or stride."
      ]
    },
    {
      "cell_type": "code",
      "metadata": {
        "colab": {
          "base_uri": "https://localhost:8080/"
        },
        "id": "mqkjZwO9qbdP",
        "outputId": "977d2fd6-ba25-41e8-9fbb-e0afbdcb0465"
      },
      "source": [
        "second_point = points[1]\r\n",
        "second_point.size()"
      ],
      "execution_count": 51,
      "outputs": [
        {
          "output_type": "execute_result",
          "data": {
            "text/plain": [
              "torch.Size([2])"
            ]
          },
          "metadata": {
            "tags": []
          },
          "execution_count": 51
        }
      ]
    },
    {
      "cell_type": "code",
      "metadata": {
        "colab": {
          "base_uri": "https://localhost:8080/"
        },
        "id": "RDC5-1SKqstq",
        "outputId": "acb50694-c0d5-4790-e45b-197f14950393"
      },
      "source": [
        "second_point.storage_offset()"
      ],
      "execution_count": 52,
      "outputs": [
        {
          "output_type": "execute_result",
          "data": {
            "text/plain": [
              "2"
            ]
          },
          "metadata": {
            "tags": []
          },
          "execution_count": 52
        }
      ]
    },
    {
      "cell_type": "code",
      "metadata": {
        "colab": {
          "base_uri": "https://localhost:8080/"
        },
        "id": "UZLks7XfqsrO",
        "outputId": "c28ba9ea-0148-4693-c225-2290fdfd8a18"
      },
      "source": [
        "second_point.stride()"
      ],
      "execution_count": 53,
      "outputs": [
        {
          "output_type": "execute_result",
          "data": {
            "text/plain": [
              "(1,)"
            ]
          },
          "metadata": {
            "tags": []
          },
          "execution_count": 53
        }
      ]
    },
    {
      "cell_type": "markdown",
      "metadata": {
        "id": "X4y3CPvupyoh"
      },
      "source": [
        "### Transposing without copying"
      ]
    },
    {
      "cell_type": "code",
      "metadata": {
        "colab": {
          "base_uri": "https://localhost:8080/"
        },
        "id": "hLNOz06pph0K",
        "outputId": "f8322b7d-6608-418c-c57b-f99f44ba0caf"
      },
      "source": [
        "points = torch.tensor([[4.0, 1.0], [5.0, 3.0], [2.0, 1.0]])\r\n",
        "points"
      ],
      "execution_count": 54,
      "outputs": [
        {
          "output_type": "execute_result",
          "data": {
            "text/plain": [
              "tensor([[4., 1.],\n",
              "        [5., 3.],\n",
              "        [2., 1.]])"
            ]
          },
          "metadata": {
            "tags": []
          },
          "execution_count": 54
        }
      ]
    },
    {
      "cell_type": "code",
      "metadata": {
        "colab": {
          "base_uri": "https://localhost:8080/"
        },
        "id": "brZ6fRXyrC7K",
        "outputId": "da0dd2ae-7019-47a9-c184-79406ff6ca00"
      },
      "source": [
        "points_t = points.t()\r\n",
        "points_t"
      ],
      "execution_count": 55,
      "outputs": [
        {
          "output_type": "execute_result",
          "data": {
            "text/plain": [
              "tensor([[4., 5., 2.],\n",
              "        [1., 3., 1.]])"
            ]
          },
          "metadata": {
            "tags": []
          },
          "execution_count": 55
        }
      ]
    },
    {
      "cell_type": "code",
      "metadata": {
        "colab": {
          "base_uri": "https://localhost:8080/"
        },
        "id": "O6sIQd4lrHkh",
        "outputId": "6fde0879-7c4d-4597-b2c9-aa958d596442"
      },
      "source": [
        "# verify that the two tensors share the same storage\r\n",
        "id(points.storage()) == id(points_t.storage())"
      ],
      "execution_count": 56,
      "outputs": [
        {
          "output_type": "execute_result",
          "data": {
            "text/plain": [
              "True"
            ]
          },
          "metadata": {
            "tags": []
          },
          "execution_count": 56
        }
      ]
    },
    {
      "cell_type": "code",
      "metadata": {
        "colab": {
          "base_uri": "https://localhost:8080/"
        },
        "id": "AfLragilrSTg",
        "outputId": "2a1f47aa-aabe-4d97-958e-404c4c9fc3fe"
      },
      "source": [
        "# only differ in shape and stride\r\n",
        "points.stride()"
      ],
      "execution_count": 57,
      "outputs": [
        {
          "output_type": "execute_result",
          "data": {
            "text/plain": [
              "(2, 1)"
            ]
          },
          "metadata": {
            "tags": []
          },
          "execution_count": 57
        }
      ]
    },
    {
      "cell_type": "code",
      "metadata": {
        "colab": {
          "base_uri": "https://localhost:8080/"
        },
        "id": "J0QagCcgrW1o",
        "outputId": "74386ca1-6408-4e55-e84e-aacf067b29d3"
      },
      "source": [
        "points_t.stride()"
      ],
      "execution_count": 58,
      "outputs": [
        {
          "output_type": "execute_result",
          "data": {
            "text/plain": [
              "(1, 2)"
            ]
          },
          "metadata": {
            "tags": []
          },
          "execution_count": 58
        }
      ]
    },
    {
      "cell_type": "markdown",
      "metadata": {
        "id": "Oubol18Jrlvy"
      },
      "source": [
        "### Transposing in higher dimensions"
      ]
    },
    {
      "cell_type": "code",
      "metadata": {
        "colab": {
          "base_uri": "https://localhost:8080/"
        },
        "id": "z_COqTAarcI4",
        "outputId": "dab5ed67-4508-46d1-8c83-a122116edd66"
      },
      "source": [
        "some_t = torch.ones(3, 4, 5)\r\n",
        "transpose_t = some_t.transpose(0, 2)\r\n",
        "some_t.shape"
      ],
      "execution_count": 59,
      "outputs": [
        {
          "output_type": "execute_result",
          "data": {
            "text/plain": [
              "torch.Size([3, 4, 5])"
            ]
          },
          "metadata": {
            "tags": []
          },
          "execution_count": 59
        }
      ]
    },
    {
      "cell_type": "code",
      "metadata": {
        "colab": {
          "base_uri": "https://localhost:8080/"
        },
        "id": "fi-JkYR0rvsQ",
        "outputId": "e798707e-cc24-4758-b44f-299beb85bfca"
      },
      "source": [
        "transpose_t.shape"
      ],
      "execution_count": 60,
      "outputs": [
        {
          "output_type": "execute_result",
          "data": {
            "text/plain": [
              "torch.Size([5, 4, 3])"
            ]
          },
          "metadata": {
            "tags": []
          },
          "execution_count": 60
        }
      ]
    },
    {
      "cell_type": "code",
      "metadata": {
        "colab": {
          "base_uri": "https://localhost:8080/"
        },
        "id": "OYF7b7tUsnYP",
        "outputId": "64f46feb-a6f5-4dac-c3e1-5af5d4165c5e"
      },
      "source": [
        "some_t.stride()"
      ],
      "execution_count": 61,
      "outputs": [
        {
          "output_type": "execute_result",
          "data": {
            "text/plain": [
              "(20, 5, 1)"
            ]
          },
          "metadata": {
            "tags": []
          },
          "execution_count": 61
        }
      ]
    },
    {
      "cell_type": "code",
      "metadata": {
        "colab": {
          "base_uri": "https://localhost:8080/"
        },
        "id": "eCqeWMpbsp6P",
        "outputId": "ddd74eb8-6168-43db-d36e-246dbb7a996c"
      },
      "source": [
        "transpose_t.stride()"
      ],
      "execution_count": 62,
      "outputs": [
        {
          "output_type": "execute_result",
          "data": {
            "text/plain": [
              "(1, 5, 20)"
            ]
          },
          "metadata": {
            "tags": []
          },
          "execution_count": 62
        }
      ]
    },
    {
      "cell_type": "markdown",
      "metadata": {
        "id": "ogn4QgEXs3Ul"
      },
      "source": [
        "### Contiguous tensors"
      ]
    },
    {
      "cell_type": "markdown",
      "metadata": {
        "id": "J2uCb_3ps8Cs"
      },
      "source": [
        "A tensor whose values are laid out in the storage starting from the rightmost dimension onward (that is, moving along rows for a 2D tensor) is defined as contiguous."
      ]
    },
    {
      "cell_type": "code",
      "metadata": {
        "colab": {
          "base_uri": "https://localhost:8080/"
        },
        "id": "lc5YG-Nes8oI",
        "outputId": "5cd21d04-bd53-45bd-9786-3aa0870e0ec6"
      },
      "source": [
        "points.is_contiguous()"
      ],
      "execution_count": 63,
      "outputs": [
        {
          "output_type": "execute_result",
          "data": {
            "text/plain": [
              "True"
            ]
          },
          "metadata": {
            "tags": []
          },
          "execution_count": 63
        }
      ]
    },
    {
      "cell_type": "markdown",
      "metadata": {
        "id": "Ci1LIpIGtTLT"
      },
      "source": [
        "Obtaining a new contigous tensor from a non-contiguous one"
      ]
    },
    {
      "cell_type": "code",
      "metadata": {
        "id": "56P0zkfNqse5",
        "colab": {
          "base_uri": "https://localhost:8080/"
        },
        "outputId": "362d95a1-8078-4dce-d4c7-7b1e9084c826"
      },
      "source": [
        "points = torch.tensor([[4.0, 1.0], [5.0, 3.0], [2.0, 1.0]])\r\n",
        "points_t = points.t()\r\n",
        "points_t"
      ],
      "execution_count": 64,
      "outputs": [
        {
          "output_type": "execute_result",
          "data": {
            "text/plain": [
              "tensor([[4., 5., 2.],\n",
              "        [1., 3., 1.]])"
            ]
          },
          "metadata": {
            "tags": []
          },
          "execution_count": 64
        }
      ]
    },
    {
      "cell_type": "code",
      "metadata": {
        "colab": {
          "base_uri": "https://localhost:8080/"
        },
        "id": "aNoipKahssAV",
        "outputId": "2e2472da-9d9d-4807-88c3-94eb45061e0e"
      },
      "source": [
        "points_t.storage()"
      ],
      "execution_count": 65,
      "outputs": [
        {
          "output_type": "execute_result",
          "data": {
            "text/plain": [
              " 4.0\n",
              " 1.0\n",
              " 5.0\n",
              " 3.0\n",
              " 2.0\n",
              " 1.0\n",
              "[torch.FloatStorage of size 6]"
            ]
          },
          "metadata": {
            "tags": []
          },
          "execution_count": 65
        }
      ]
    },
    {
      "cell_type": "code",
      "metadata": {
        "colab": {
          "base_uri": "https://localhost:8080/"
        },
        "id": "Vu3B93Rxti5W",
        "outputId": "385b8d9d-ba8e-453c-c86a-8772676a86e4"
      },
      "source": [
        "points_t.stride()"
      ],
      "execution_count": 66,
      "outputs": [
        {
          "output_type": "execute_result",
          "data": {
            "text/plain": [
              "(1, 2)"
            ]
          },
          "metadata": {
            "tags": []
          },
          "execution_count": 66
        }
      ]
    },
    {
      "cell_type": "code",
      "metadata": {
        "colab": {
          "base_uri": "https://localhost:8080/"
        },
        "id": "JU_ghedZtl0m",
        "outputId": "365fb774-86ce-437a-9d49-944c2c641c74"
      },
      "source": [
        "points_t_cont = points_t.contiguous()\r\n",
        "points_t_cont"
      ],
      "execution_count": 67,
      "outputs": [
        {
          "output_type": "execute_result",
          "data": {
            "text/plain": [
              "tensor([[4., 5., 2.],\n",
              "        [1., 3., 1.]])"
            ]
          },
          "metadata": {
            "tags": []
          },
          "execution_count": 67
        }
      ]
    },
    {
      "cell_type": "code",
      "metadata": {
        "colab": {
          "base_uri": "https://localhost:8080/"
        },
        "id": "ntTur4-mtrX2",
        "outputId": "5cf24bb2-00d3-4325-f0d2-75658bb6b218"
      },
      "source": [
        "points_t_cont.stride()"
      ],
      "execution_count": 68,
      "outputs": [
        {
          "output_type": "execute_result",
          "data": {
            "text/plain": [
              "(3, 1)"
            ]
          },
          "metadata": {
            "tags": []
          },
          "execution_count": 68
        }
      ]
    },
    {
      "cell_type": "markdown",
      "metadata": {
        "id": "KcNbrkqnuEVY"
      },
      "source": [
        "## Moving tensors to GPU"
      ]
    },
    {
      "cell_type": "code",
      "metadata": {
        "id": "VPY0db_vuMTW"
      },
      "source": [
        "points_gpu = torch.tensor([[4.0, 1.0], [5.0, 3.0], [2.0, 1.0]], device='cuda')"
      ],
      "execution_count": 69,
      "outputs": []
    },
    {
      "cell_type": "code",
      "metadata": {
        "id": "W5FC7SqPucUc"
      },
      "source": [
        "# copying a tensor created on the CPU onto the GPU\r\n",
        "points_gpu = points.to(device='cuda')"
      ],
      "execution_count": 70,
      "outputs": []
    },
    {
      "cell_type": "markdown",
      "metadata": {
        "id": "wjfCIYw8utVh"
      },
      "source": [
        "If machine has more than one GPU, we can also decide on which GPU we allocate the tensor by passing a zero-based integer identifying the GPU on the machine, such as"
      ]
    },
    {
      "cell_type": "code",
      "metadata": {
        "id": "4lmSB6L_upal"
      },
      "source": [
        "points_gpu = points.to(device='cuda:0')"
      ],
      "execution_count": 72,
      "outputs": []
    },
    {
      "cell_type": "markdown",
      "metadata": {
        "id": "GlMWRnVzv6vw"
      },
      "source": [
        "## NumPy interoperability"
      ]
    },
    {
      "cell_type": "code",
      "metadata": {
        "colab": {
          "base_uri": "https://localhost:8080/"
        },
        "id": "mykoHJunu-ak",
        "outputId": "746cd75b-6bb2-48e1-dde7-18c2eb9b11be"
      },
      "source": [
        "# converting tensors to numpy array\r\n",
        "points = torch.ones(3, 4)\r\n",
        "points_np = points.numpy()\r\n",
        "points_np"
      ],
      "execution_count": 73,
      "outputs": [
        {
          "output_type": "execute_result",
          "data": {
            "text/plain": [
              "array([[1., 1., 1., 1.],\n",
              "       [1., 1., 1., 1.],\n",
              "       [1., 1., 1., 1.]], dtype=float32)"
            ]
          },
          "metadata": {
            "tags": []
          },
          "execution_count": 73
        }
      ]
    },
    {
      "cell_type": "code",
      "metadata": {
        "id": "q7NOLqlqxgFD"
      },
      "source": [
        "# PyTorch tensor from a NumPy array\r\n",
        "points = torch.from_numpy(points_np)"
      ],
      "execution_count": 74,
      "outputs": []
    },
    {
      "cell_type": "markdown",
      "metadata": {
        "id": "Jpmc2pufya9i"
      },
      "source": [
        "## Serializing tensors"
      ]
    },
    {
      "cell_type": "markdown",
      "metadata": {
        "id": "DutXt4FVyg6p"
      },
      "source": [
        "Creating a tensor on the fly is all well and good, but if the data inside is valuable, we will want to save it to a file and load it back at some point. After all, we don’t want to have to retrain a model from scratch every time we start running our program! PyTorch uses pickle under the hood to serialize the tensor object, plus dedicated serialization code for the storage. Here’s how we can save our points tensor to an ourpoints.t file:"
      ]
    },
    {
      "cell_type": "code",
      "metadata": {
        "id": "vCn9rcMayJaq"
      },
      "source": [
        "path = '/content/drive/MyDrive/PyTorch/Deep Learning with PyTorch Book/Chapter-3/ourpoints.t'\r\n",
        "torch.save(points, path)"
      ],
      "execution_count": 76,
      "outputs": []
    },
    {
      "cell_type": "code",
      "metadata": {
        "id": "FawFqeLEyybh"
      },
      "source": [
        "# alternative\r\n",
        "with open(path, 'wb') as f:\r\n",
        "    torch.save(points, f) "
      ],
      "execution_count": 77,
      "outputs": []
    },
    {
      "cell_type": "code",
      "metadata": {
        "id": "rotu-32dzCph"
      },
      "source": [
        "# loading back \r\n",
        "points = torch.load(path)"
      ],
      "execution_count": 78,
      "outputs": []
    },
    {
      "cell_type": "code",
      "metadata": {
        "colab": {
          "base_uri": "https://localhost:8080/"
        },
        "id": "kfbSgFn_zHbu",
        "outputId": "0a6cac67-a4d4-46d1-c091-f1dbf9c3bb44"
      },
      "source": [
        "points"
      ],
      "execution_count": 79,
      "outputs": [
        {
          "output_type": "execute_result",
          "data": {
            "text/plain": [
              "tensor([[1., 1., 1., 1.],\n",
              "        [1., 1., 1., 1.],\n",
              "        [1., 1., 1., 1.]])"
            ]
          },
          "metadata": {
            "tags": []
          },
          "execution_count": 79
        }
      ]
    },
    {
      "cell_type": "markdown",
      "metadata": {
        "id": "JzgcAfhazOEH"
      },
      "source": [
        "### Serializing to HDF5 with h5py"
      ]
    },
    {
      "cell_type": "markdown",
      "metadata": {
        "id": "175qkQfTzbQL"
      },
      "source": [
        "HDF5 is a portable, widely supported format for representing serialized multidimensional arrays, organized in a nested keyvalue dictionary. Python supports HDF5 through the h5py library (www.h5py.org), which accepts and returns data in the form of NumPy arrays."
      ]
    },
    {
      "cell_type": "code",
      "metadata": {
        "id": "d5WUN0J9zIL4"
      },
      "source": [
        "import h5py\r\n",
        "path = '/content/drive/MyDrive/PyTorch/Deep Learning with PyTorch Book/Chapter-3/ourpoints.hdf5'\r\n",
        "f = h5py.File(path, 'w')\r\n",
        "dset = f.create_dataset('coords', data=points.numpy())\r\n",
        "f.close()"
      ],
      "execution_count": 80,
      "outputs": []
    },
    {
      "cell_type": "markdown",
      "metadata": {
        "id": "s9Mfjq-lzyeW"
      },
      "source": [
        "Here 'coords' is a key into the HDF5 file. We can have other keys—even nested ones. One of the interesting things in HDF5 is that we can index the dataset while on disk and access only the elements we’re interested in. Let’s suppose we want to load just the last two points in our dataset:\r\n",
        "\r\n"
      ]
    },
    {
      "cell_type": "code",
      "metadata": {
        "id": "ShlJmeTkzuCC"
      },
      "source": [
        "f = h5py.File(path, 'r')\r\n",
        "dset = f['coords']\r\n",
        "last_points = dset[-2:]"
      ],
      "execution_count": 81,
      "outputs": []
    },
    {
      "cell_type": "code",
      "metadata": {
        "colab": {
          "base_uri": "https://localhost:8080/"
        },
        "id": "s2DHixBez8fc",
        "outputId": "e2d10519-b081-4dfb-d991-faac57c4cc55"
      },
      "source": [
        "last_points"
      ],
      "execution_count": 82,
      "outputs": [
        {
          "output_type": "execute_result",
          "data": {
            "text/plain": [
              "array([[1., 1., 1., 1.],\n",
              "       [1., 1., 1., 1.]], dtype=float32)"
            ]
          },
          "metadata": {
            "tags": []
          },
          "execution_count": 82
        }
      ]
    },
    {
      "cell_type": "markdown",
      "metadata": {
        "id": "dD1Zi1Vi0B4x"
      },
      "source": [
        "The data is not loaded when the file is opened or the dataset is required. Rather, the data stays on disk until we request the second and last rows in the dataset. At that point, h5py accesses those two columns and returns a NumPy array-like object encapsulating that region in that dataset that behaves like a NumPy array and has the same API."
      ]
    },
    {
      "cell_type": "code",
      "metadata": {
        "id": "IvKuSHqiz7Hw"
      },
      "source": [
        ""
      ],
      "execution_count": null,
      "outputs": []
    }
  ]
}