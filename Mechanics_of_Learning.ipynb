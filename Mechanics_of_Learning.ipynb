{
  "nbformat": 4,
  "nbformat_minor": 0,
  "metadata": {
    "colab": {
      "name": "Mechanics of Learning.ipynb",
      "provenance": [],
      "authorship_tag": "ABX9TyOLJfsXAi49m6s+eOc5sI89",
      "include_colab_link": true
    },
    "kernelspec": {
      "name": "python3",
      "display_name": "Python 3"
    }
  },
  "cells": [
    {
      "cell_type": "markdown",
      "metadata": {
        "id": "view-in-github",
        "colab_type": "text"
      },
      "source": [
        "<a href=\"https://colab.research.google.com/github/Gladiator07/Deep-Learning-with-PyTorch/blob/main/Mechanics_of_Learning.ipynb\" target=\"_parent\"><img src=\"https://colab.research.google.com/assets/colab-badge.svg\" alt=\"Open In Colab\"/></a>"
      ]
    },
    {
      "cell_type": "markdown",
      "metadata": {
        "id": "YZZCfOm4Rtur"
      },
      "source": [
        "## Thermometer with no units !!!"
      ]
    },
    {
      "cell_type": "markdown",
      "metadata": {
        "id": "odU7gmhUR0SZ"
      },
      "source": [
        "We just got back from a trip to some obscure location, and we brought back a fancy, wall-mounted analog thermometer. It looks great, and it’s a perfect fit for our living room. Its only flaw is that it doesn’t show units. Not to worry, we’ve got a plan: we’ll build a dataset of readings and corresponding temperature values in our favorite units, choose a model, adjust its weights iteratively until a measure of the error is low enough, and finally be able to interpret the new readings in units we understand.\r\n",
        "\r\n"
      ]
    },
    {
      "cell_type": "code",
      "metadata": {
        "id": "3-LYTJIHSEbx"
      },
      "source": [
        "import torch\r\n",
        "import matplotlib.pyplot as plt"
      ],
      "execution_count": 57,
      "outputs": []
    },
    {
      "cell_type": "code",
      "metadata": {
        "id": "1LOSYwVLPU_q"
      },
      "source": [
        "# temperature in celsius\r\n",
        "t_c = [0.5, 14.0, 15.0, 28.0, 11.0, 8.0, 3.0, -4.0, 6.0, 13.0, 21.0] \r\n",
        "# unknown analog readings\r\n",
        "t_u = [35.7, 55.9, 58.2, 81.9, 56.3, 48.9, 33.9, 21.8, 48.4, 60.4, 68.4]\r\n",
        "\r\n",
        "t_c = torch.tensor(t_c)\r\n",
        "t_u = torch.tensor(t_u)"
      ],
      "execution_count": 58,
      "outputs": []
    },
    {
      "cell_type": "code",
      "metadata": {
        "colab": {
          "base_uri": "https://localhost:8080/",
          "height": 296
        },
        "id": "f4_obUG3SLkL",
        "outputId": "8b16f585-154e-4d5e-e35c-e3e6a051840b"
      },
      "source": [
        "plt.scatter(t_u, t_c)\r\n",
        "plt.xlabel(\"Unknown Temperature\")\r\n",
        "plt.ylabel(\"Temperature in Celsius\")"
      ],
      "execution_count": 59,
      "outputs": [
        {
          "output_type": "execute_result",
          "data": {
            "text/plain": [
              "Text(0, 0.5, 'Temperature in Celsius')"
            ]
          },
          "metadata": {
            "tags": []
          },
          "execution_count": 59
        },
        {
          "output_type": "display_data",
          "data": {
            "image/png": "[encoded data removed]",
            "text/plain": [
              "<Figure size 432x288 with 1 Axes>"
            ]
          },
          "metadata": {
            "tags": [],
            "needs_background": "light"
          }
        }
      ]
    },
    {
      "cell_type": "code",
      "metadata": {
        "id": "9c0cJYlmSXAK"
      },
      "source": [
        "def model(t_u, w, b):\r\n",
        "    return w * t_u + b\r\n",
        "\r\n",
        "def loss_fn(t_p, t_c):\r\n",
        "    squared_diffs = (t_p - t_c) ** 2\r\n",
        "    return squared_diffs.mean()"
      ],
      "execution_count": 60,
      "outputs": []
    },
    {
      "cell_type": "code",
      "metadata": {
        "colab": {
          "base_uri": "https://localhost:8080/"
        },
        "id": "hhZWApz0UVeZ",
        "outputId": "6a0e942f-4cd2-452d-a8c6-8b1c17316ece"
      },
      "source": [
        "# intialize the parameters\r\n",
        "w = torch.ones(())\r\n",
        "b = torch.zeros(())\r\n",
        "\r\n",
        "# note that w and b are scalars (0-dimensional tensors)\r\n",
        "\r\n",
        "t_p = model(t_u, w, b)\r\n",
        "t_p"
      ],
      "execution_count": 61,
      "outputs": [
        {
          "output_type": "execute_result",
          "data": {
            "text/plain": [
              "tensor([35.7000, 55.9000, 58.2000, 81.9000, 56.3000, 48.9000, 33.9000, 21.8000,\n",
              "        48.4000, 60.4000, 68.4000])"
            ]
          },
          "metadata": {
            "tags": []
          },
          "execution_count": 61
        }
      ]
    },
    {
      "cell_type": "code",
      "metadata": {
        "colab": {
          "base_uri": "https://localhost:8080/"
        },
        "id": "Qq5qwFNAUz7p",
        "outputId": "a0b279f1-2e1a-4b15-fb44-8750d8656a29"
      },
      "source": [
        "loss = loss_fn(t_p, t_c)\r\n",
        "loss"
      ],
      "execution_count": 62,
      "outputs": [
        {
          "output_type": "execute_result",
          "data": {
            "text/plain": [
              "tensor(1763.8848)"
            ]
          },
          "metadata": {
            "tags": []
          },
          "execution_count": 62
        }
      ]
    },
    {
      "cell_type": "code",
      "metadata": {
        "id": "JBKgXZgpU4xG"
      },
      "source": [
        "delta = 0.1\r\n",
        "\r\n",
        "loss_rate_of_change_w = \\\r\n",
        "    (loss_fn(model(t_u, w + delta, b), t_c) - \r\n",
        "     loss_fn(model(t_u, w - delta, b), t_c)) / (2.0 * delta)\r\n",
        "    \r\n",
        "learning_rate = 1e-2\r\n",
        "\r\n",
        "w = w - learning_rate * loss_rate_of_change_w\r\n",
        "\r\n",
        "loss_rate_of_change_b = \\\r\n",
        "    (loss_fn(model(t_u, w, b + delta), t_c) - \r\n",
        "     loss_fn(model(t_u, w, b - delta), t_c)) / (2.0 * delta)\r\n",
        "\r\n",
        "b = b - learning_rate * loss_rate_of_change_b"
      ],
      "execution_count": 63,
      "outputs": []
    },
    {
      "cell_type": "code",
      "metadata": {
        "id": "piSZWUQOWYCb"
      },
      "source": [
        "def dloss_fn(t_p, t_c):\r\n",
        "    dsq_diffs = 2 * (t_p - t_c) / t_p.size(0)  # <1>\r\n",
        "    return dsq_diffs\r\n",
        "\r\n",
        "def dmodel_dw(t_u, w, b):\r\n",
        "    return t_u\r\n",
        "\r\n",
        "def dmodel_db(t_u, w, b):\r\n",
        "    return 1.0\r\n",
        "\r\n",
        "def grad_fn(t_u, t_c, t_p, w, b):\r\n",
        "    dloss_dtp = dloss_fn(t_p, t_c)\r\n",
        "    dloss_dw = dloss_dtp * dmodel_dw(t_u, w, b)\r\n",
        "    dloss_db = dloss_dtp * dmodel_db(t_u, w, b)\r\n",
        "    return torch.stack([dloss_dw.sum(), dloss_db.sum()])"
      ],
      "execution_count": 64,
      "outputs": []
    },
    {
      "cell_type": "code",
      "metadata": {
        "id": "kWoE4lbwYiZc"
      },
      "source": [
        "def training_loop(n_epochs, learning_rate, params, t_u, t_c):\r\n",
        "    for epoch in range(1, n_epochs + 1):\r\n",
        "        w, b = params\r\n",
        "\r\n",
        "        t_p = model(t_u, w, b)\r\n",
        "        loss = loss_fn(t_p, t_c)\r\n",
        "        grad = grad_fn(t_u, t_c, t_p, w, b)\r\n",
        "\r\n",
        "        params = params - learning_rate * grad\r\n",
        "\r\n",
        "        print(f'Epoch: {epoch}, Loss: {float(loss)}')\r\n",
        "        print(params)\r\n",
        "\r\n",
        "    return params"
      ],
      "execution_count": 65,
      "outputs": []
    },
    {
      "cell_type": "code",
      "metadata": {
        "id": "sKHkysg5aSfk"
      },
      "source": [
        "\r\n",
        "def training_loop(n_epochs, learning_rate, params, t_u, t_c,\r\n",
        "                  print_params=True):\r\n",
        "    for epoch in range(1, n_epochs + 1):\r\n",
        "        w, b = params\r\n",
        "\r\n",
        "        t_p = model(t_u, w, b)  # <1>\r\n",
        "        loss = loss_fn(t_p, t_c)\r\n",
        "        grad = grad_fn(t_u, t_c, t_p, w, b)  # <2>\r\n",
        "\r\n",
        "        params = params - learning_rate * grad\r\n",
        "\r\n",
        "        if epoch in {1, 2, 3, 10, 11, 99, 100, 4000, 5000}:  # <3>\r\n",
        "            print('Epoch %d, Loss %f' % (epoch, float(loss)))\r\n",
        "            if print_params:\r\n",
        "                print('    Params:', params)\r\n",
        "                print('    Grad:  ', grad)\r\n",
        "        if epoch in {4, 12, 101}:\r\n",
        "            print('...')\r\n",
        "\r\n",
        "        if not torch.isfinite(loss).all():\r\n",
        "            break  # <3>\r\n",
        "            \r\n",
        "    return params"
      ],
      "execution_count": 66,
      "outputs": []
    },
    {
      "cell_type": "code",
      "metadata": {
        "colab": {
          "base_uri": "https://localhost:8080/"
        },
        "id": "DXmDBntZZNBC",
        "outputId": "5dc3f0fb-a64d-445e-ff6b-d203b5f731b8"
      },
      "source": [
        "training_loop(n_epochs=100,\r\n",
        "              learning_rate=1e-2,\r\n",
        "              params = torch.tensor([1.0,0.0]),\r\n",
        "              t_u = t_u,\r\n",
        "              t_c = t_c)"
      ],
      "execution_count": 67,
      "outputs": [
        {
          "output_type": "stream",
          "text": [
            "Epoch 1, Loss 1763.884766\n",
            "    Params: tensor([-44.1730,  -0.8260])\n",
            "    Grad:   tensor([4517.2964,   82.6000])\n",
            "Epoch 2, Loss 5802484.500000\n",
            "    Params: tensor([2568.4011,   45.1637])\n",
            "    Grad:   tensor([-261257.4062,   -4598.9702])\n",
            "Epoch 3, Loss 19408029696.000000\n",
            "    Params: tensor([-148527.7344,   -2616.3931])\n",
            "    Grad:   tensor([15109614.0000,   266155.6875])\n",
            "...\n",
            "Epoch 10, Loss 90901105189019073810297959556841472.000000\n",
            "    Params: tensor([3.2144e+17, 5.6621e+15])\n",
            "    Grad:   tensor([-3.2700e+19, -5.7600e+17])\n",
            "Epoch 11, Loss inf\n",
            "    Params: tensor([-1.8590e+19, -3.2746e+17])\n",
            "    Grad:   tensor([1.8912e+21, 3.3313e+19])\n"
          ],
          "name": "stdout"
        },
        {
          "output_type": "execute_result",
          "data": {
            "text/plain": [
              "tensor([-1.8590e+19, -3.2746e+17])"
            ]
          },
          "metadata": {
            "tags": []
          },
          "execution_count": 67
        }
      ]
    },
    {
      "cell_type": "code",
      "metadata": {
        "colab": {
          "base_uri": "https://localhost:8080/"
        },
        "id": "7h9Y5zTSZYk8",
        "outputId": "419de879-96ec-48b2-b232-b085303110c4"
      },
      "source": [
        "training_loop(n_epochs=100,\r\n",
        "              learning_rate=1e-4,\r\n",
        "              params = torch.tensor([1.0,0.0]),\r\n",
        "              t_u = t_u,\r\n",
        "              t_c = t_c)"
      ],
      "execution_count": 68,
      "outputs": [
        {
          "output_type": "stream",
          "text": [
            "Epoch 1, Loss 1763.884766\n",
            "    Params: tensor([ 0.5483, -0.0083])\n",
            "    Grad:   tensor([4517.2964,   82.6000])\n",
            "Epoch 2, Loss 323.090515\n",
            "    Params: tensor([ 0.3623, -0.0118])\n",
            "    Grad:   tensor([1859.5493,   35.7843])\n",
            "Epoch 3, Loss 78.929634\n",
            "    Params: tensor([ 0.2858, -0.0135])\n",
            "    Grad:   tensor([765.4666,  16.5122])\n",
            "...\n",
            "Epoch 10, Loss 29.105247\n",
            "    Params: tensor([ 0.2324, -0.0166])\n",
            "    Grad:   tensor([1.4803, 3.0544])\n",
            "Epoch 11, Loss 29.104168\n",
            "    Params: tensor([ 0.2323, -0.0169])\n",
            "    Grad:   tensor([0.5781, 3.0384])\n",
            "...\n",
            "Epoch 99, Loss 29.023582\n",
            "    Params: tensor([ 0.2327, -0.0435])\n",
            "    Grad:   tensor([-0.0533,  3.0226])\n",
            "Epoch 100, Loss 29.022667\n",
            "    Params: tensor([ 0.2327, -0.0438])\n",
            "    Grad:   tensor([-0.0532,  3.0226])\n"
          ],
          "name": "stdout"
        },
        {
          "output_type": "execute_result",
          "data": {
            "text/plain": [
              "tensor([ 0.2327, -0.0438])"
            ]
          },
          "metadata": {
            "tags": []
          },
          "execution_count": 68
        }
      ]
    },
    {
      "cell_type": "code",
      "metadata": {
        "id": "lfzS-qBsZuSM"
      },
      "source": [
        "t_un = 0.1 * t_u"
      ],
      "execution_count": 69,
      "outputs": []
    },
    {
      "cell_type": "code",
      "metadata": {
        "colab": {
          "base_uri": "https://localhost:8080/"
        },
        "id": "oMpBcyQFakfb",
        "outputId": "a1b34b74-8594-4e73-cfbf-d16d088dda7a"
      },
      "source": [
        "training_loop(n_epochs=100,\r\n",
        "              learning_rate=1e-2,\r\n",
        "              params = torch.tensor([1.0,0.0]),\r\n",
        "              t_u = t_un,\r\n",
        "              t_c = t_c)"
      ],
      "execution_count": 70,
      "outputs": [
        {
          "output_type": "stream",
          "text": [
            "Epoch 1, Loss 80.364342\n",
            "    Params: tensor([1.7761, 0.1064])\n",
            "    Grad:   tensor([-77.6140, -10.6400])\n",
            "Epoch 2, Loss 37.574913\n",
            "    Params: tensor([2.0848, 0.1303])\n",
            "    Grad:   tensor([-30.8623,  -2.3864])\n",
            "Epoch 3, Loss 30.871077\n",
            "    Params: tensor([2.2094, 0.1217])\n",
            "    Grad:   tensor([-12.4631,   0.8587])\n",
            "...\n",
            "Epoch 10, Loss 29.030489\n",
            "    Params: tensor([ 2.3232, -0.0710])\n",
            "    Grad:   tensor([-0.5355,  2.9295])\n",
            "Epoch 11, Loss 28.941877\n",
            "    Params: tensor([ 2.3284, -0.1003])\n",
            "    Grad:   tensor([-0.5240,  2.9264])\n",
            "...\n",
            "Epoch 99, Loss 22.214186\n",
            "    Params: tensor([ 2.7508, -2.4910])\n",
            "    Grad:   tensor([-0.4453,  2.5208])\n",
            "Epoch 100, Loss 22.148710\n",
            "    Params: tensor([ 2.7553, -2.5162])\n",
            "    Grad:   tensor([-0.4446,  2.5165])\n"
          ],
          "name": "stdout"
        },
        {
          "output_type": "execute_result",
          "data": {
            "text/plain": [
              "tensor([ 2.7553, -2.5162])"
            ]
          },
          "metadata": {
            "tags": []
          },
          "execution_count": 70
        }
      ]
    },
    {
      "cell_type": "code",
      "metadata": {
        "colab": {
          "base_uri": "https://localhost:8080/"
        },
        "id": "aN8-urcsbsl8",
        "outputId": "d8453da1-da86-49e6-f43b-ea03ec3e8dc6"
      },
      "source": [
        "params = training_loop(\r\n",
        "    n_epochs = 5000, \r\n",
        "    learning_rate = 1e-2, \r\n",
        "    params = torch.tensor([1.0, 0.0]), \r\n",
        "    t_u = t_un, \r\n",
        "    t_c = t_c,\r\n",
        "    print_params = False)\r\n",
        "\r\n",
        "params"
      ],
      "execution_count": 71,
      "outputs": [
        {
          "output_type": "stream",
          "text": [
            "Epoch 1, Loss 80.364342\n",
            "Epoch 2, Loss 37.574913\n",
            "Epoch 3, Loss 30.871077\n",
            "...\n",
            "Epoch 10, Loss 29.030489\n",
            "Epoch 11, Loss 28.941877\n",
            "...\n",
            "Epoch 99, Loss 22.214186\n",
            "Epoch 100, Loss 22.148710\n",
            "...\n",
            "Epoch 4000, Loss 2.927680\n",
            "Epoch 5000, Loss 2.927648\n"
          ],
          "name": "stdout"
        },
        {
          "output_type": "execute_result",
          "data": {
            "text/plain": [
              "tensor([  5.3671, -17.3012])"
            ]
          },
          "metadata": {
            "tags": []
          },
          "execution_count": 71
        }
      ]
    },
    {
      "cell_type": "code",
      "metadata": {
        "colab": {
          "base_uri": "https://localhost:8080/"
        },
        "id": "1LQ-kpCNaqcK",
        "outputId": "e8681011-d8cd-4bf1-f173-3a375b64e7f3"
      },
      "source": [
        "training_loop(n_epochs=5000,\r\n",
        "              learning_rate=1e-2,\r\n",
        "              params = torch.tensor([1.0,0.0]),\r\n",
        "              t_u = t_un,\r\n",
        "              t_c = t_c)"
      ],
      "execution_count": 72,
      "outputs": [
        {
          "output_type": "stream",
          "text": [
            "Epoch 1, Loss 80.364342\n",
            "    Params: tensor([1.7761, 0.1064])\n",
            "    Grad:   tensor([-77.6140, -10.6400])\n",
            "Epoch 2, Loss 37.574913\n",
            "    Params: tensor([2.0848, 0.1303])\n",
            "    Grad:   tensor([-30.8623,  -2.3864])\n",
            "Epoch 3, Loss 30.871077\n",
            "    Params: tensor([2.2094, 0.1217])\n",
            "    Grad:   tensor([-12.4631,   0.8587])\n",
            "...\n",
            "Epoch 10, Loss 29.030489\n",
            "    Params: tensor([ 2.3232, -0.0710])\n",
            "    Grad:   tensor([-0.5355,  2.9295])\n",
            "Epoch 11, Loss 28.941877\n",
            "    Params: tensor([ 2.3284, -0.1003])\n",
            "    Grad:   tensor([-0.5240,  2.9264])\n",
            "...\n",
            "Epoch 99, Loss 22.214186\n",
            "    Params: tensor([ 2.7508, -2.4910])\n",
            "    Grad:   tensor([-0.4453,  2.5208])\n",
            "Epoch 100, Loss 22.148710\n",
            "    Params: tensor([ 2.7553, -2.5162])\n",
            "    Grad:   tensor([-0.4446,  2.5165])\n",
            "...\n",
            "Epoch 4000, Loss 2.927680\n",
            "    Params: tensor([  5.3643, -17.2853])\n",
            "    Grad:   tensor([-0.0006,  0.0033])\n",
            "Epoch 5000, Loss 2.927648\n",
            "    Params: tensor([  5.3671, -17.3012])\n",
            "    Grad:   tensor([-0.0001,  0.0006])\n"
          ],
          "name": "stdout"
        },
        {
          "output_type": "execute_result",
          "data": {
            "text/plain": [
              "tensor([  5.3671, -17.3012])"
            ]
          },
          "metadata": {
            "tags": []
          },
          "execution_count": 72
        }
      ]
    },
    {
      "cell_type": "code",
      "metadata": {
        "colab": {
          "base_uri": "https://localhost:8080/",
          "height": 463
        },
        "id": "PJ2YLQRga6_L",
        "outputId": "ed421781-760e-46fe-a3e3-105c166a0710"
      },
      "source": [
        "t_p = model(t_un, *params)\r\n",
        "fig = plt.figure(dpi=600)\r\n",
        "plt.xlabel(\"Temperature (Fahrenheit)\")\r\n",
        "plt.ylabel(\"Temperature (Celsius)\")\r\n",
        "plt.plot(t_u.numpy(), t_p.detach().numpy())\r\n",
        "plt.plot(t_u.numpy(), t_c.numpy(), 'o')"
      ],
      "execution_count": 73,
      "outputs": [
        {
          "output_type": "execute_result",
          "data": {
            "text/plain": [
              "[<matplotlib.lines.Line2D at 0x7fbc8677e198>]"
            ]
          },
          "metadata": {
            "tags": []
          },
          "execution_count": 73
        },
        {
          "output_type": "display_data",
          "data": {
            "image/png": "[encoded data removed]",
            "text/plain": [
              "<Figure size 3600x2400 with 1 Axes>"
            ]
          },
          "metadata": {
            "tags": [],
            "needs_background": "light"
          }
        }
      ]
    },
    {
      "cell_type": "markdown",
      "metadata": {
        "id": "uZXjjt7ChSZz"
      },
      "source": [
        "## Using autograd for gradient descent"
      ]
    },
    {
      "cell_type": "code",
      "metadata": {
        "id": "OVBIWe_gbkfi"
      },
      "source": [
        "def model(t_u, w, b):\r\n",
        "    return w * t_u + b\r\n",
        "\r\n",
        "def loss_fn(t_p, t_c):\r\n",
        "    squared_diffs = (t_p - t_c) ** 2\r\n",
        "    return squared_diffs.mean()\r\n",
        "\r\n",
        "params = torch.tensor([1.0, 0.0], requires_grad=True)"
      ],
      "execution_count": 74,
      "outputs": []
    },
    {
      "cell_type": "code",
      "metadata": {
        "colab": {
          "base_uri": "https://localhost:8080/"
        },
        "id": "dU1RnMSUh162",
        "outputId": "adb0edf0-e1e0-47df-8978-a5a169f520f6"
      },
      "source": [
        "params.grad is None"
      ],
      "execution_count": 75,
      "outputs": [
        {
          "output_type": "execute_result",
          "data": {
            "text/plain": [
              "True"
            ]
          },
          "metadata": {
            "tags": []
          },
          "execution_count": 75
        }
      ]
    },
    {
      "cell_type": "code",
      "metadata": {
        "colab": {
          "base_uri": "https://localhost:8080/"
        },
        "id": "my8qbEaBh9ab",
        "outputId": "af4f22b9-56a9-4f85-8f65-da32b8aba8d5"
      },
      "source": [
        "loss = loss_fn(model(t_u, *params), t_c)\r\n",
        "loss.backward()\r\n",
        "\r\n",
        "params.grad"
      ],
      "execution_count": 76,
      "outputs": [
        {
          "output_type": "execute_result",
          "data": {
            "text/plain": [
              "tensor([4517.2969,   82.6000])"
            ]
          },
          "metadata": {
            "tags": []
          },
          "execution_count": 76
        }
      ]
    },
    {
      "cell_type": "markdown",
      "metadata": {
        "id": "YRzHiaizi45v"
      },
      "source": [
        "### Accumulating Grad Functions"
      ]
    },
    {
      "cell_type": "markdown",
      "metadata": {
        "id": "FWC7_IRPi-KL"
      },
      "source": [
        "We could have any number of tensors with requires_grad set to True and any composition of functions. In this case, PyTorch would compute the derivatives of the loss throughout the chain of functions (the computation graph) and accumulate their values in the grad attribute of those tensors (the leaf nodes of the graph). Alert! Big gotcha ahead. This is something PyTorch newcomers—and a lot of more experienced folks, too—trip up on regularly. We just wrote accumulate, not store.\r\n",
        " \r\n",
        "WARNING :Calling backward will lead derivatives to accumulate at leaf nodes. We need to zero the gradient explicitly after using it for parameter updates. Let’s repeat together: calling backward will lead derivatives to accumulate at leaf nodes. So if backward was called earlier, the loss is evaluated again, backward is called again (as in any training loop), and the gradient at each leaf is accumulated (that is, summed) on top of the one computed at the previous iteration, which leads to an incorrect value for the gradient. In order to prevent this from occurring, we need to zero the gradient explicitly at each iteration. We can do this easily using the in-place zero_ method:"
      ]
    },
    {
      "cell_type": "code",
      "metadata": {
        "id": "w67ukhNssX1n"
      },
      "source": [
        "torch.set_printoptions(edgeitems=2)\r\n",
        "\r\n",
        "t_c = torch.tensor([0.5, 14.0, 15.0, 28.0, 11.0, 8.0,\r\n",
        "                    3.0, -4.0, 6.0, 13.0, 21.0])\r\n",
        "t_u = torch.tensor([35.7, 55.9, 58.2, 81.9, 56.3, 48.9,\r\n",
        "                    33.9, 21.8, 48.4, 60.4, 68.4])\r\n",
        "t_un = 0.1 * t_u"
      ],
      "execution_count": 108,
      "outputs": []
    },
    {
      "cell_type": "code",
      "metadata": {
        "id": "LSAkyEcTstgd"
      },
      "source": [
        "def model(t_u, w, b):\r\n",
        "    return w * t_u + b\r\n",
        "def loss_fn(t_p, t_c):\r\n",
        "    squared_diffs = (t_p - t_c)**2\r\n",
        "    return squared_diffs.mean()\r\n",
        "params = torch.tensor([1.0, 0.0], requires_grad=True)"
      ],
      "execution_count": 109,
      "outputs": []
    },
    {
      "cell_type": "code",
      "metadata": {
        "id": "t_f0qDU0iImU"
      },
      "source": [
        "if params.grad is not None:\r\n",
        "    params.grad.zero_()"
      ],
      "execution_count": 110,
      "outputs": []
    },
    {
      "cell_type": "code",
      "metadata": {
        "id": "rfVAxg-bjMq8"
      },
      "source": [
        "# training loop (autograd-enabled)\r\n",
        "\r\n",
        "def training_loop(n_epochs, learning_rate, params, t_u, t_c):\r\n",
        "    for epoch in range(1, n_epochs + 1):\r\n",
        "        if params.grad is not None:  # <1>\r\n",
        "            params.grad.zero_()\r\n",
        "        \r\n",
        "        t_p = model(t_u, *params) \r\n",
        "        loss = loss_fn(t_p, t_c)\r\n",
        "        loss.backward()\r\n",
        "        \r\n",
        "        with torch.no_grad():  # <2>\r\n",
        "            params -= learning_rate * params.grad\r\n",
        "\r\n",
        "        if epoch % 500 == 0:\r\n",
        "            print('Epoch %d, Loss %f' % (epoch, float(loss)))\r\n",
        "            \r\n",
        "    return params"
      ],
      "execution_count": 111,
      "outputs": []
    },
    {
      "cell_type": "code",
      "metadata": {
        "colab": {
          "base_uri": "https://localhost:8080/"
        },
        "id": "PxpsC-JRj7P-",
        "outputId": "2da5535f-ae58-42c4-f1d4-9836afd053d6"
      },
      "source": [
        "training_loop(\r\n",
        "    n_epochs=5000,\r\n",
        "    learning_rate=1e-2,\r\n",
        "    params=torch.tensor([1.0,0.0], requires_grad=True),\r\n",
        "    t_u = t_un,\r\n",
        "    t_c = t_c\r\n",
        ")"
      ],
      "execution_count": 112,
      "outputs": [
        {
          "output_type": "stream",
          "text": [
            "Epoch 500, Loss 7.860115\n",
            "Epoch 1000, Loss 3.828538\n",
            "Epoch 1500, Loss 3.092191\n",
            "Epoch 2000, Loss 2.957698\n",
            "Epoch 2500, Loss 2.933134\n",
            "Epoch 3000, Loss 2.928648\n",
            "Epoch 3500, Loss 2.927830\n",
            "Epoch 4000, Loss 2.927679\n",
            "Epoch 4500, Loss 2.927652\n",
            "Epoch 5000, Loss 2.927647\n"
          ],
          "name": "stdout"
        },
        {
          "output_type": "execute_result",
          "data": {
            "text/plain": [
              "tensor([  5.3671, -17.3012], requires_grad=True)"
            ]
          },
          "metadata": {
            "tags": []
          },
          "execution_count": 112
        }
      ]
    },
    {
      "cell_type": "markdown",
      "metadata": {
        "id": "JxORPKAPtJB4"
      },
      "source": [
        "## Optimizers a la carte"
      ]
    },
    {
      "cell_type": "code",
      "metadata": {
        "id": "vXu0h-MAsETH"
      },
      "source": [
        "import torch.optim as optim"
      ],
      "execution_count": 113,
      "outputs": []
    },
    {
      "cell_type": "code",
      "metadata": {
        "colab": {
          "base_uri": "https://localhost:8080/"
        },
        "id": "GJYU-bRhtOQx",
        "outputId": "193dddcd-fc9a-4b98-ce45-65a8bbbe6575"
      },
      "source": [
        "dir(optim)"
      ],
      "execution_count": 114,
      "outputs": [
        {
          "output_type": "execute_result",
          "data": {
            "text/plain": [
              "['ASGD',\n",
              " 'Adadelta',\n",
              " 'Adagrad',\n",
              " 'Adam',\n",
              " 'AdamW',\n",
              " 'Adamax',\n",
              " 'LBFGS',\n",
              " 'Optimizer',\n",
              " 'RMSprop',\n",
              " 'Rprop',\n",
              " 'SGD',\n",
              " 'SparseAdam',\n",
              " '__builtins__',\n",
              " '__cached__',\n",
              " '__doc__',\n",
              " '__file__',\n",
              " '__loader__',\n",
              " '__name__',\n",
              " '__package__',\n",
              " '__path__',\n",
              " '__spec__',\n",
              " '_multi_tensor',\n",
              " 'functional',\n",
              " 'lr_scheduler',\n",
              " 'swa_utils']"
            ]
          },
          "metadata": {
            "tags": []
          },
          "execution_count": 114
        }
      ]
    },
    {
      "cell_type": "markdown",
      "metadata": {
        "id": "_O59Xo7jtcpD"
      },
      "source": [
        "Every optimizer constructor takes a list of parameters (aka PyTorch tensors, typically with requires_grad set to True) as the first input. All parameters passed to the optimizer are retained inside the optimizer object so the optimizer can update their values and access their grad attribute.\r\n",
        "\r\n",
        "Each optimizer exposes two methods: zero_grad and step. zero_grad zeroes the grad attribute of all the parameters passed to the optimizer upon construction. step updates the value of those parameters according to the optimization strategy implemented by the specific optimizer.\r\n",
        "\r\n"
      ]
    },
    {
      "cell_type": "code",
      "metadata": {
        "id": "Uh6Wc9oTtO56"
      },
      "source": [
        "# gradient descent optimizer\r\n",
        "params = torch.tensor([1.0, 0.0], requires_grad=True)\r\n",
        "learning_rate = 1e-5\r\n",
        "optimizer = optim.SGD([params], lr=learning_rate)"
      ],
      "execution_count": 115,
      "outputs": []
    },
    {
      "cell_type": "code",
      "metadata": {
        "colab": {
          "base_uri": "https://localhost:8080/"
        },
        "id": "OiSDJjLXt4Sk",
        "outputId": "30648325-4cac-46b0-92cb-24d0ac647af5"
      },
      "source": [
        "t_p = model(t_u, *params)\r\n",
        "loss = loss_fn(t_p, t_c)\r\n",
        "loss.backward()\r\n",
        "optimizer.step() # performs a single optimization step\r\n",
        "params"
      ],
      "execution_count": 116,
      "outputs": [
        {
          "output_type": "execute_result",
          "data": {
            "text/plain": [
              "tensor([ 9.5483e-01, -8.2600e-04], requires_grad=True)"
            ]
          },
          "metadata": {
            "tags": []
          },
          "execution_count": 116
        }
      ]
    },
    {
      "cell_type": "code",
      "metadata": {
        "colab": {
          "base_uri": "https://localhost:8080/"
        },
        "id": "-ESg1j-TuBfq",
        "outputId": "171890d4-5d1a-43b7-b48b-088440178bc0"
      },
      "source": [
        "params = torch.tensor([1.0, 0.0], requires_grad=True)\r\n",
        "learning_rate = 1e-2\r\n",
        "optimizer = optim.SGD([params], lr=learning_rate)\r\n",
        "\r\n",
        "t_p = model(t_un, *params)\r\n",
        "loss = loss_fn(t_p, t_c)\r\n",
        "\r\n",
        "optimizer.zero_grad()\r\n",
        "loss.backward()\r\n",
        "optimizer.step()\r\n",
        "\r\n",
        "params"
      ],
      "execution_count": 117,
      "outputs": [
        {
          "output_type": "execute_result",
          "data": {
            "text/plain": [
              "tensor([1.7761, 0.1064], requires_grad=True)"
            ]
          },
          "metadata": {
            "tags": []
          },
          "execution_count": 117
        }
      ]
    },
    {
      "cell_type": "code",
      "metadata": {
        "id": "xKb3lL3LwEmE"
      },
      "source": [
        "def training_loop(n_epochs, optimizer, params, t_u, t_c):\r\n",
        "    for epoch in range(1, n_epochs + 1):\r\n",
        "        t_p = model(t_u, *params)\r\n",
        "        loss = loss_fn(t_p, t_c)\r\n",
        "\r\n",
        "        optimizer.zero_grad()\r\n",
        "        loss.backward()\r\n",
        "        optimizer.step()\r\n",
        "\r\n",
        "        if epoch % 500 == 0:\r\n",
        "            print(f'Epoch: {epoch}, Loss: {float(loss)}')\r\n",
        "    return params"
      ],
      "execution_count": 118,
      "outputs": []
    },
    {
      "cell_type": "code",
      "metadata": {
        "id": "_-gNSDk003-f"
      },
      "source": [
        "params = torch.tensor([1.0, 0.0], requires_grad=True)\r\n",
        "learning_rate = 1e-2\r\n",
        "optimizer = optim.SGD([params], lr=learning_rate)"
      ],
      "execution_count": 119,
      "outputs": []
    },
    {
      "cell_type": "code",
      "metadata": {
        "colab": {
          "base_uri": "https://localhost:8080/"
        },
        "id": "m4WtpmPp1EMU",
        "outputId": "b46ed3c7-e211-4b10-8fa7-236f646d0162"
      },
      "source": [
        "training_loop(\r\n",
        "    n_epochs=5000,\r\n",
        "    optimizer=optimizer,\r\n",
        "    params=params,\r\n",
        "    t_u = t_un,\r\n",
        "    t_c = t_c\r\n",
        ")"
      ],
      "execution_count": 121,
      "outputs": [
        {
          "output_type": "stream",
          "text": [
            "Epoch: 500, Loss: 7.860119819641113\n",
            "Epoch: 1000, Loss: 3.828537940979004\n",
            "Epoch: 1500, Loss: 3.092191219329834\n",
            "Epoch: 2000, Loss: 2.957697868347168\n",
            "Epoch: 2500, Loss: 2.933133840560913\n",
            "Epoch: 3000, Loss: 2.9286484718322754\n",
            "Epoch: 3500, Loss: 2.9278297424316406\n",
            "Epoch: 4000, Loss: 2.9276793003082275\n",
            "Epoch: 4500, Loss: 2.927651882171631\n",
            "Epoch: 5000, Loss: 2.9276468753814697\n"
          ],
          "name": "stdout"
        },
        {
          "output_type": "execute_result",
          "data": {
            "text/plain": [
              "tensor([  5.3671, -17.3012], requires_grad=True)"
            ]
          },
          "metadata": {
            "tags": []
          },
          "execution_count": 121
        }
      ]
    },
    {
      "cell_type": "code",
      "metadata": {
        "colab": {
          "base_uri": "https://localhost:8080/"
        },
        "id": "9u2wSx4J1NmK",
        "outputId": "e8de8474-3e63-41ff-87a3-99c6ce053a93"
      },
      "source": [
        "# using adam with non-normalized inputs and high LR\r\n",
        "\r\n",
        "params = torch.tensor([1.0, 0.0], requires_grad=True)\r\n",
        "learning_rate = 1e-1\r\n",
        "optimizer = optim.Adam([params], lr=learning_rate)\r\n",
        "\r\n",
        "training_loop(\r\n",
        "    n_epochs=2000,\r\n",
        "    optimizer=optimizer,\r\n",
        "    params=params,\r\n",
        "    t_u = t_u,\r\n",
        "    t_c = t_c\r\n",
        ")"
      ],
      "execution_count": 122,
      "outputs": [
        {
          "output_type": "stream",
          "text": [
            "Epoch: 500, Loss: 7.612900257110596\n",
            "Epoch: 1000, Loss: 3.086700439453125\n",
            "Epoch: 1500, Loss: 2.928579092025757\n",
            "Epoch: 2000, Loss: 2.9276442527770996\n"
          ],
          "name": "stdout"
        },
        {
          "output_type": "execute_result",
          "data": {
            "text/plain": [
              "tensor([  0.5367, -17.3021], requires_grad=True)"
            ]
          },
          "metadata": {
            "tags": []
          },
          "execution_count": 122
        }
      ]
    },
    {
      "cell_type": "markdown",
      "metadata": {
        "id": "2udAnVqk18C6"
      },
      "source": [
        "## Training, validation and overfitting"
      ]
    },
    {
      "cell_type": "markdown",
      "metadata": {
        "id": "ykoAsuBh20Gn"
      },
      "source": [
        "### Splitting a dataset"
      ]
    },
    {
      "cell_type": "code",
      "metadata": {
        "colab": {
          "base_uri": "https://localhost:8080/"
        },
        "id": "YTDEn29l1vme",
        "outputId": "4ce3a7e9-d887-498c-8457-5055cea23b57"
      },
      "source": [
        "n_samples = t_u.shape[0]\r\n",
        "n_val = int(0.2 * n_samples)\r\n",
        "\r\n",
        "shuffled_indices = torch.randperm(n_samples)\r\n",
        "\r\n",
        "train_indices = shuffled_indices[:-n_val]\r\n",
        "val_indices = shuffled_indices[-n_val:]\r\n",
        "\r\n",
        "train_indices, val_indices"
      ],
      "execution_count": 127,
      "outputs": [
        {
          "output_type": "execute_result",
          "data": {
            "text/plain": [
              "(tensor([ 8,  7,  3,  4,  1, 10,  5,  9,  2]), tensor([6, 0]))"
            ]
          },
          "metadata": {
            "tags": []
          },
          "execution_count": 127
        }
      ]
    },
    {
      "cell_type": "code",
      "metadata": {
        "id": "PzT-N_kD24i5"
      },
      "source": [
        "train_t_u = t_u[train_indices]\r\n",
        "train_t_c = t_c[train_indices]\r\n",
        "\r\n",
        "val_t_u = t_u[val_indices]\r\n",
        "val_t_c = t_c[val_indices]\r\n",
        "\r\n",
        "train_t_un = 0.1 * train_t_u\r\n",
        "val_t_un = 0.1 * val_t_u"
      ],
      "execution_count": 131,
      "outputs": []
    },
    {
      "cell_type": "code",
      "metadata": {
        "id": "HXO2jeT23oU3"
      },
      "source": [
        "def training_loop(n_epochs, optimizer, params, train_t_u, val_t_u,\r\n",
        "                  train_t_c, val_t_c):\r\n",
        "    for epoch in range(1, n_epochs + 1):\r\n",
        "        train_t_p = model(train_t_u, *params) # <1>\r\n",
        "        train_loss = loss_fn(train_t_p, train_t_c)\r\n",
        "                             \r\n",
        "        val_t_p = model(val_t_u, *params) # <1>\r\n",
        "        val_loss = loss_fn(val_t_p, val_t_c)\r\n",
        "        \r\n",
        "        optimizer.zero_grad()\r\n",
        "        train_loss.backward() # <2>\r\n",
        "        optimizer.step()\r\n",
        "\r\n",
        "        if epoch <= 3 or epoch % 500 == 0:\r\n",
        "            print(f\"Epoch {epoch}, Training loss {train_loss.item():.4f},\"\r\n",
        "                  f\" Validation loss {val_loss.item():.4f}\")\r\n",
        "            \r\n",
        "    return params"
      ],
      "execution_count": 132,
      "outputs": []
    },
    {
      "cell_type": "code",
      "metadata": {
        "colab": {
          "base_uri": "https://localhost:8080/"
        },
        "id": "_WhYxJ6W34Ww",
        "outputId": "d4154e34-89a2-4ddf-cf24-4f0f3349d398"
      },
      "source": [
        "params = torch.tensor([1.0, 0.0], requires_grad=True)\r\n",
        "learning_rate = 1e-2\r\n",
        "optimizer = optim.SGD([params], lr=learning_rate)\r\n",
        "\r\n",
        "training_loop(\r\n",
        "    n_epochs = 3000, \r\n",
        "    optimizer = optimizer,\r\n",
        "    params = params,\r\n",
        "    train_t_u = train_t_un, # <1> \r\n",
        "    val_t_u = val_t_un, # <1> \r\n",
        "    train_t_c = train_t_c,\r\n",
        "    val_t_c = val_t_c)"
      ],
      "execution_count": 133,
      "outputs": [
        {
          "output_type": "stream",
          "text": [
            "Epoch 1, Training loss 97.1590, Validation loss 4.7885\n",
            "Epoch 2, Training loss 33.2024, Validation loss 29.7473\n",
            "Epoch 3, Training loss 26.7429, Validation loss 42.7580\n",
            "Epoch 500, Training loss 8.7188, Validation loss 12.4889\n",
            "Epoch 1000, Training loss 4.3259, Validation loss 4.3778\n",
            "Epoch 1500, Training loss 3.2235, Validation loss 3.0086\n",
            "Epoch 2000, Training loss 2.9469, Validation loss 2.9987\n",
            "Epoch 2500, Training loss 2.8775, Validation loss 3.1634\n",
            "Epoch 3000, Training loss 2.8601, Validation loss 3.2884\n"
          ],
          "name": "stdout"
        },
        {
          "output_type": "execute_result",
          "data": {
            "text/plain": [
              "tensor([  5.4078, -17.5912], requires_grad=True)"
            ]
          },
          "metadata": {
            "tags": []
          },
          "execution_count": 133
        }
      ]
    },
    {
      "cell_type": "code",
      "metadata": {
        "id": "2W5DeJk936zI"
      },
      "source": [
        "# switching off computation graph for validation\r\n",
        "\r\n",
        "def training_loop(n_epochs, optimizer, params, train_t_u, val_t_u,\r\n",
        "                  train_t_c, val_t_c):\r\n",
        "    for epoch in range(1, n_epochs + 1):\r\n",
        "        train_t_p = model(train_t_u, *params)\r\n",
        "        train_loss = loss_fn(train_t_p, train_t_c)\r\n",
        "\r\n",
        "        with torch.no_grad(): # <1>\r\n",
        "            val_t_p = model(val_t_u, *params)\r\n",
        "            val_loss = loss_fn(val_t_p, val_t_c)\r\n",
        "            assert val_loss.requires_grad == False # <2>\r\n",
        "            \r\n",
        "        optimizer.zero_grad()\r\n",
        "        train_loss.backward()\r\n",
        "        optimizer.step()"
      ],
      "execution_count": 134,
      "outputs": []
    },
    {
      "cell_type": "code",
      "metadata": {
        "id": "kW_xoZXh4_6c"
      },
      "source": [
        "def calc_forward(t_u, t_c, is_train):\r\n",
        "    with torch.set_grad_enabled(is_train):\r\n",
        "        t_p = model(t_u, *params)\r\n",
        "        loss = loss_fn(t_p, t_c)\r\n",
        "    return loss"
      ],
      "execution_count": 135,
      "outputs": []
    }
  ]
}