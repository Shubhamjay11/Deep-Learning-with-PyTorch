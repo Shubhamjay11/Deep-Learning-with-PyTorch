{
  "nbformat": 4,
  "nbformat_minor": 0,
  "metadata": {
    "colab": {
      "name": "Real-world data representation using tensors.ipynb",
      "provenance": [],
      "mount_file_id": "1eaPjDfJQg6QlCyCa7aCkfkc0pxNf-wiM",
      "authorship_tag": "ABX9TyMY+SkCVIWRgVxpam4nAulE",
      "include_colab_link": true
    },
    "kernelspec": {
      "name": "python3",
      "display_name": "Python 3"
    }
  },
  "cells": [
    {
      "cell_type": "markdown",
      "metadata": {
        "id": "view-in-github",
        "colab_type": "text"
      },
      "source": [
        "<a href=\"https://colab.research.google.com/github/Gladiator07/Deep-Learning-with-PyTorch/blob/main/Real_world_data_representation_using_tensors.ipynb\" target=\"_parent\"><img src=\"https://colab.research.google.com/assets/colab-badge.svg\" alt=\"Open In Colab\"/></a>"
      ]
    },
    {
      "cell_type": "markdown",
      "metadata": {
        "id": "R_hYc5RYgDp5"
      },
      "source": [
        "## Working with Images"
      ]
    },
    {
      "cell_type": "markdown",
      "metadata": {
        "id": "w0Vhgj-JgRX6"
      },
      "source": [
        "### Loading an image file"
      ]
    },
    {
      "cell_type": "code",
      "metadata": {
        "colab": {
          "base_uri": "https://localhost:8080/"
        },
        "id": "-PMAnmuvdWXg",
        "outputId": "a3ab3db8-2b6d-4bfb-f1b4-eec9b1d2ed31"
      },
      "source": [
        "import torch\r\n",
        "import imageio\r\n",
        "\r\n",
        "path = '/content/drive/MyDrive/PyTorch/Deep Learning with PyTorch Book/Chapter-4/bobby.jpg'\r\n",
        "img_arr = imageio.imread(path)\r\n",
        "img_arr.shape"
      ],
      "execution_count": 3,
      "outputs": [
        {
          "output_type": "execute_result",
          "data": {
            "text/plain": [
              "(825, 800, 3)"
            ]
          },
          "metadata": {
            "tags": []
          },
          "execution_count": 3
        }
      ]
    },
    {
      "cell_type": "markdown",
      "metadata": {
        "id": "scpPhP-KgsJ_"
      },
      "source": [
        "### Changing the layout"
      ]
    },
    {
      "cell_type": "code",
      "metadata": {
        "id": "GIMTXHJ8gb8f"
      },
      "source": [
        "# changing the layout since pytorch has C x H x W (as default)\r\n",
        "img = torch.from_numpy(img_arr)\r\n",
        "out = img.permute(2, 0, 1)"
      ],
      "execution_count": 4,
      "outputs": []
    },
    {
      "cell_type": "code",
      "metadata": {
        "colab": {
          "base_uri": "https://localhost:8080/"
        },
        "id": "4KFfSVDpg-HV",
        "outputId": "c573c275-62d4-4358-bcd9-1d8376d261d2"
      },
      "source": [
        "out.shape"
      ],
      "execution_count": 6,
      "outputs": [
        {
          "output_type": "execute_result",
          "data": {
            "text/plain": [
              "torch.Size([3, 825, 800])"
            ]
          },
          "metadata": {
            "tags": []
          },
          "execution_count": 6
        }
      ]
    },
    {
      "cell_type": "code",
      "metadata": {
        "id": "6mQ1jfl7hEd0"
      },
      "source": [
        "batch_size = 3\r\n",
        "batch = torch.zeros(batch_size, 3, 256, 256, dtype=torch.uint8)"
      ],
      "execution_count": 7,
      "outputs": []
    },
    {
      "cell_type": "code",
      "metadata": {
        "id": "OoT08E5dhdsz"
      },
      "source": [
        "import os\r\n",
        "data_dir = '/content/drive/MyDrive/PyTorch/Deep Learning with PyTorch Book/Chapter-4/data/image-cats/'\r\n",
        "filenames = [name for name in os.listdir(data_dir) if os.path.splitext(name)[-1] == '.png']\r\n",
        "\r\n",
        "for i, filename in enumerate(filenames):\r\n",
        "    img_arr = imageio.imread(os.path.join(data_dir, filename))\r\n",
        "    img_t = torch.from_numpy(img_arr)\r\n",
        "    img_t = img_t.permute(2, 0, 1)\r\n",
        "    img_t = img_t[:3]  # keeping only the RGB channels (ignoring alpha channel)\r\n",
        "    batch[i] = img_t"
      ],
      "execution_count": 9,
      "outputs": []
    },
    {
      "cell_type": "markdown",
      "metadata": {
        "id": "DsbadOlri_2O"
      },
      "source": [
        "### Normalizing the data"
      ]
    },
    {
      "cell_type": "code",
      "metadata": {
        "id": "GdOcAp8VixzY"
      },
      "source": [
        "# first possiblity to just divide the values of the pizels by 255\r\n",
        "# 255 is the maximum representable number in 8-bit unsigned\r\n",
        "batch = batch.float()\r\n",
        "batch /= 255.0"
      ],
      "execution_count": 10,
      "outputs": []
    },
    {
      "cell_type": "code",
      "metadata": {
        "id": "_aZ-g_DEjXR7"
      },
      "source": [
        "# another possibility, 0 mean and 1 standard deviation\r\n",
        "n_channels = batch.shape[1]\r\n",
        "for c in range(n_channels):\r\n",
        "    mean = torch.mean(batch[:, c])\r\n",
        "    std = torch.std(batch[:, c])\r\n",
        "    batch[:, c] = (batch[:, c] - mean) / std"
      ],
      "execution_count": 12,
      "outputs": []
    },
    {
      "cell_type": "markdown",
      "metadata": {
        "id": "8tt8-D9Ck-4e"
      },
      "source": [
        "### Loading a specialized format"
      ]
    },
    {
      "cell_type": "code",
      "metadata": {
        "colab": {
          "base_uri": "https://localhost:8080/"
        },
        "id": "OyvU7nUZk-Ny",
        "outputId": "d15d9ad3-8b87-4a90-e47a-fa2be2ca6fb9"
      },
      "source": [
        "dir_path = '/content/drive/MyDrive/PyTorch/Deep Learning with PyTorch Book/Chapter-4/data/volumetric-dicom/2-LUNG 3.0  B70f-04083'\r\n",
        "vol_arr = imageio.volread(dir_path, 'DICOM')\r\n",
        "vol_arr.shape"
      ],
      "execution_count": 13,
      "outputs": [
        {
          "output_type": "stream",
          "text": [
            "Reading DICOM (examining files): 1/99 files (1.0%)\b\b\b\b\b\b\b\b\b\b\b\b\b\b\b\b\b2/99 files (2.0%)\b\b\b\b\b\b\b\b\b\b\b\b\b\b\b\b\b3/99 files (3.0%)\b\b\b\b\b\b\b\b\b\b\b\b\b\b\b\b\b4/99 files (4.0%)\b\b\b\b\b\b\b\b\b\b\b\b\b\b\b\b\b5/99 files (5.1%)\b\b\b\b\b\b\b\b\b\b\b\b\b\b\b\b\b6/99 files (6.1%)\b\b\b\b\b\b\b\b\b\b\b\b\b\b\b\b\b8/99 files (8.1%)\b\b\b\b\b\b\b\b\b\b\b\b\b\b\b\b\b9/99 files (9.1%)\b\b\b\b\b\b\b\b\b\b\b\b\b\b\b\b\b10/99 files (10.1%)\b\b\b\b\b\b\b\b\b\b\b\b\b\b\b\b\b\b\b11/99 files (11.1%)\b\b\b\b\b\b\b\b\b\b\b\b\b\b\b\b\b\b\b12/99 files (12.1%)\b\b\b\b\b\b\b\b\b\b\b\b\b\b\b\b\b\b\b13/99 files (13.1%)\b\b\b\b\b\b\b\b\b\b\b\b\b\b\b\b\b\b\b14/99 files (14.1%)\b\b\b\b\b\b\b\b\b\b\b\b\b\b\b\b\b\b\b15/99 files (15.2%)\b\b\b\b\b\b\b\b\b\b\b\b\b\b\b\b\b\b\b16/99 files (16.2%)\b\b\b\b\b\b\b\b\b\b\b\b\b\b\b\b\b\b\b17/99 files (17.2%)\b\b\b\b\b\b\b\b\b\b\b\b\b\b\b\b\b\b\b18/99 files (18.2%)\b\b\b\b\b\b\b\b\b\b\b\b\b\b\b\b\b\b\b19/99 files (19.2%)\b\b\b\b\b\b\b\b\b\b\b\b\b\b\b\b\b\b\b20/99 files (20.2%)\b\b\b\b\b\b\b\b\b\b\b\b\b\b\b\b\b\b\b21/99 files (21.2%)\b\b\b\b\b\b\b\b\b\b\b\b\b\b\b\b\b\b\b22/99 files (22.2%)\b\b\b\b\b\b\b\b\b\b\b\b\b\b\b\b\b\b\b23/99 files (23.2%)\b\b\b\b\b\b\b\b\b\b\b\b\b\b\b\b\b\b\b24/99 files (24.2%)\b\b\b\b\b\b\b\b\b\b\b\b\b\b\b\b\b\b\b25/99 files (25.3%)\b\b\b\b\b\b\b\b\b\b\b\b\b\b\b\b\b\b\b26/99 files (26.3%)\b\b\b\b\b\b\b\b\b\b\b\b\b\b\b\b\b\b\b27/99 files (27.3%)\b\b\b\b\b\b\b\b\b\b\b\b\b\b\b\b\b\b\b28/99 files (28.3%)\b\b\b\b\b\b\b\b\b\b\b\b\b\b\b\b\b\b\b29/99 files (29.3%)\b\b\b\b\b\b\b\b\b\b\b\b\b\b\b\b\b\b\b30/99 files (30.3%)\b\b\b\b\b\b\b\b\b\b\b\b\b\b\b\b\b\b\b31/99 files (31.3%)\b\b\b\b\b\b\b\b\b\b\b\b\b\b\b\b\b\b\b32/99 files (32.3%)\b\b\b\b\b\b\b\b\b\b\b\b\b\b\b\b\b\b\b33/99 files (33.3%)\b\b\b\b\b\b\b\b\b\b\b\b\b\b\b\b\b\b\b34/99 files (34.3%)\b\b\b\b\b\b\b\b\b\b\b\b\b\b\b\b\b\b\b35/99 files (35.4%)\b\b\b\b\b\b\b\b\b\b\b\b\b\b\b\b\b\b\b36/99 files (36.4%)\b\b\b\b\b\b\b\b\b\b\b\b\b\b\b\b\b\b\b37/99 files (37.4%)\b\b\b\b\b\b\b\b\b\b\b\b\b\b\b\b\b\b\b38/99 files (38.4%)\b\b\b\b\b\b\b\b\b\b\b\b\b\b\b\b\b\b\b39/99 files (39.4%)\b\b\b\b\b\b\b\b\b\b\b\b\b\b\b\b\b\b\b40/99 files (40.4%)\b\b\b\b\b\b\b\b\b\b\b\b\b\b\b\b\b\b\b41/99 files (41.4%)\b\b\b\b\b\b\b\b\b\b\b\b\b\b\b\b\b\b\b42/99 files (42.4%)\b\b\b\b\b\b\b\b\b\b\b\b\b\b\b\b\b\b\b43/99 files (43.4%)\b\b\b\b\b\b\b\b\b\b\b\b\b\b\b\b\b\b\b44/99 files (44.4%)\b\b\b\b\b\b\b\b\b\b\b\b\b\b\b\b\b\b\b45/99 files (45.5%)\b\b\b\b\b\b\b\b\b\b\b\b\b\b\b\b\b\b\b46/99 files (46.5%)\b\b\b\b\b\b\b\b\b\b\b\b\b\b\b\b\b\b\b47/99 files (47.5%)\b\b\b\b\b\b\b\b\b\b\b\b\b\b\b\b\b\b\b48/99 files (48.5%)\b\b\b\b\b\b\b\b\b\b\b\b\b\b\b\b\b\b\b49/99 files (49.5%)\b\b\b\b\b\b\b\b\b\b\b\b\b\b\b\b\b\b\b50/99 files (50.5%)\b\b\b\b\b\b\b\b\b\b\b\b\b\b\b\b\b\b\b51/99 files (51.5%)\b\b\b\b\b\b\b\b\b\b\b\b\b\b\b\b\b\b\b52/99 files (52.5%)\b\b\b\b\b\b\b\b\b\b\b\b\b\b\b\b\b\b\b53/99 files (53.5%)\b\b\b\b\b\b\b\b\b\b\b\b\b\b\b\b\b\b\b54/99 files (54.5%)\b\b\b\b\b\b\b\b\b\b\b\b\b\b\b\b\b\b\b55/99 files (55.6%)\b\b\b\b\b\b\b\b\b\b\b\b\b\b\b\b\b\b\b56/99 files (56.6%)\b\b\b\b\b\b\b\b\b\b\b\b\b\b\b\b\b\b\b57/99 files (57.6%)\b\b\b\b\b\b\b\b\b\b\b\b\b\b\b\b\b\b\b58/99 files (58.6%)\b\b\b\b\b\b\b\b\b\b\b\b\b\b\b\b\b\b\b59/99 files (59.6%)\b\b\b\b\b\b\b\b\b\b\b\b\b\b\b\b\b\b\b60/99 files (60.6%)\b\b\b\b\b\b\b\b\b\b\b\b\b\b\b\b\b\b\b61/99 files (61.6%)\b\b\b\b\b\b\b\b\b\b\b\b\b\b\b\b\b\b\b62/99 files (62.6%)\b\b\b\b\b\b\b\b\b\b\b\b\b\b\b\b\b\b\b63/99 files (63.6%)\b\b\b\b\b\b\b\b\b\b\b\b\b\b\b\b\b\b\b64/99 files (64.6%)\b\b\b\b\b\b\b\b\b\b\b\b\b\b\b\b\b\b\b65/99 files (65.7%)\b\b\b\b\b\b\b\b\b\b\b\b\b\b\b\b\b\b\b66/99 files (66.7%)\b\b\b\b\b\b\b\b\b\b\b\b\b\b\b\b\b\b\b67/99 files (67.7%)\b\b\b\b\b\b\b\b\b\b\b\b\b\b\b\b\b\b\b68/99 files (68.7%)\b\b\b\b\b\b\b\b\b\b\b\b\b\b\b\b\b\b\b69/99 files (69.7%)\b\b\b\b\b\b\b\b\b\b\b\b\b\b\b\b\b\b\b70/99 files (70.7%)\b\b\b\b\b\b\b\b\b\b\b\b\b\b\b\b\b\b\b71/99 files (71.7%)\b\b\b\b\b\b\b\b\b\b\b\b\b\b\b\b\b\b\b72/99 files (72.7%)\b\b\b\b\b\b\b\b\b\b\b\b\b\b\b\b\b\b\b73/99 files (73.7%)\b\b\b\b\b\b\b\b\b\b\b\b\b\b\b\b\b\b\b74/99 files (74.7%)\b\b\b\b\b\b\b\b\b\b\b\b\b\b\b\b\b\b\b75/99 files (75.8%)\b\b\b\b\b\b\b\b\b\b\b\b\b\b\b\b\b\b\b76/99 files (76.8%)\b\b\b\b\b\b\b\b\b\b\b\b\b\b\b\b\b\b\b77/99 files (77.8%)\b\b\b\b\b\b\b\b\b\b\b\b\b\b\b\b\b\b\b78/99 files (78.8%)\b\b\b\b\b\b\b\b\b\b\b\b\b\b\b\b\b\b\b79/99 files (79.8%)\b\b\b\b\b\b\b\b\b\b\b\b\b\b\b\b\b\b\b80/99 files (80.8%)\b\b\b\b\b\b\b\b\b\b\b\b\b\b\b\b\b\b\b81/99 files (81.8%)\b\b\b\b\b\b\b\b\b\b\b\b\b\b\b\b\b\b\b82/99 files (82.8%)\b\b\b\b\b\b\b\b\b\b\b\b\b\b\b\b\b\b\b83/99 files (83.8%)\b\b\b\b\b\b\b\b\b\b\b\b\b\b\b\b\b\b\b84/99 files (84.8%)\b\b\b\b\b\b\b\b\b\b\b\b\b\b\b\b\b\b\b85/99 files (85.9%)\b\b\b\b\b\b\b\b\b\b\b\b\b\b\b\b\b\b\b86/99 files (86.9%)\b\b\b\b\b\b\b\b\b\b\b\b\b\b\b\b\b\b\b87/99 files (87.9%)\b\b\b\b\b\b\b\b\b\b\b\b\b\b\b\b\b\b\b88/99 files (88.9%)\b\b\b\b\b\b\b\b\b\b\b\b\b\b\b\b\b\b\b89/99 files (89.9%)\b\b\b\b\b\b\b\b\b\b\b\b\b\b\b\b\b\b\b90/99 files (90.9%)\b\b\b\b\b\b\b\b\b\b\b\b\b\b\b\b\b\b\b91/99 files (91.9%)\b\b\b\b\b\b\b\b\b\b\b\b\b\b\b\b\b\b\b92/99 files (92.9%)\b\b\b\b\b\b\b\b\b\b\b\b\b\b\b\b\b\b\b93/99 files (93.9%)\b\b\b\b\b\b\b\b\b\b\b\b\b\b\b\b\b\b\b94/99 files (94.9%)\b\b\b\b\b\b\b\b\b\b\b\b\b\b\b\b\b\b\b95/99 files (96.0%)\b\b\b\b\b\b\b\b\b\b\b\b\b\b\b\b\b\b\b96/99 files (97.0%)\b\b\b\b\b\b\b\b\b\b\b\b\b\b\b\b\b\b\b97/99 files (98.0%)\b\b\b\b\b\b\b\b\b\b\b\b\b\b\b\b\b\b\b98/99 files (99.0%)\b\b\b\b\b\b\b\b\b\b\b\b\b\b\b\b\b\b\b99/99 files (100.0%)\b\b\b\b\b\b\b\b\b\b\b\b\b\b\b\b\b\b\b\b99/99 files (100.0%)\n",
            "  Found 1 correct series.\n",
            "Reading DICOM (loading data): 13/99  (13.1%)\b\b\b\b\b\b\b\b\b\b\b\b\b\b42/99  (42.4%)\b\b\b\b\b\b\b\b\b\b\b\b\b\b70/99  (70.7%)\b\b\b\b\b\b\b\b\b\b\b\b\b\b96/99  (97.0%)\b\b\b\b\b\b\b\b\b\b\b\b\b\b99/99  (100.0%)\n"
          ],
          "name": "stdout"
        },
        {
          "output_type": "execute_result",
          "data": {
            "text/plain": [
              "(99, 512, 512)"
            ]
          },
          "metadata": {
            "tags": []
          },
          "execution_count": 13
        }
      ]
    },
    {
      "cell_type": "code",
      "metadata": {
        "colab": {
          "base_uri": "https://localhost:8080/"
        },
        "id": "zPrdPGJ_mCXb",
        "outputId": "0d7a080d-0e76-4f61-b712-4fc328b9e06c"
      },
      "source": [
        "# making room for channel dimension\r\n",
        "vol = torch.from_numpy(vol_arr).float()\r\n",
        "vol = torch.unsqueeze(vol, 0)\r\n",
        "vol.shape"
      ],
      "execution_count": 15,
      "outputs": [
        {
          "output_type": "execute_result",
          "data": {
            "text/plain": [
              "torch.Size([1, 99, 512, 512])"
            ]
          },
          "metadata": {
            "tags": []
          },
          "execution_count": 15
        }
      ]
    },
    {
      "cell_type": "markdown",
      "metadata": {
        "id": "FuWwAc_snaIv"
      },
      "source": [
        "### Representing tabular data"
      ]
    },
    {
      "cell_type": "code",
      "metadata": {
        "colab": {
          "base_uri": "https://localhost:8080/"
        },
        "id": "EykobtVInE-z",
        "outputId": "d983b632-f5c7-4798-8833-1a640a266c52"
      },
      "source": [
        "# loading the wine data\r\n",
        "import csv\r\n",
        "import numpy as np\r\n",
        "\r\n",
        "wine_path = '/content/drive/MyDrive/PyTorch/Deep Learning with PyTorch Book/Chapter-4/data/tabular-wine/winequality-white.csv'\r\n",
        "wineq_numpy = np.loadtxt(wine_path, dtype=np.float32, delimiter=';',skiprows=1)\r\n",
        "\r\n",
        "wineq_numpy"
      ],
      "execution_count": 17,
      "outputs": [
        {
          "output_type": "execute_result",
          "data": {
            "text/plain": [
              "array([[ 7.  ,  0.27,  0.36, ...,  0.45,  8.8 ,  6.  ],\n",
              "       [ 6.3 ,  0.3 ,  0.34, ...,  0.49,  9.5 ,  6.  ],\n",
              "       [ 8.1 ,  0.28,  0.4 , ...,  0.44, 10.1 ,  6.  ],\n",
              "       ...,\n",
              "       [ 6.5 ,  0.24,  0.19, ...,  0.46,  9.4 ,  6.  ],\n",
              "       [ 5.5 ,  0.29,  0.3 , ...,  0.38, 12.8 ,  7.  ],\n",
              "       [ 6.  ,  0.21,  0.38, ...,  0.32, 11.8 ,  6.  ]], dtype=float32)"
            ]
          },
          "metadata": {
            "tags": []
          },
          "execution_count": 17
        }
      ]
    },
    {
      "cell_type": "code",
      "metadata": {
        "colab": {
          "base_uri": "https://localhost:8080/"
        },
        "id": "CV91n2JCoKCw",
        "outputId": "c6233915-0a2e-492d-8b14-2fb7c9a15672"
      },
      "source": [
        "col_list = next(csv.reader(open(wine_path), delimiter=';'))\r\n",
        "wineq_numpy.shape, col_list"
      ],
      "execution_count": 19,
      "outputs": [
        {
          "output_type": "execute_result",
          "data": {
            "text/plain": [
              "((4898, 12),\n",
              " ['fixed acidity',\n",
              "  'volatile acidity',\n",
              "  'citric acid',\n",
              "  'residual sugar',\n",
              "  'chlorides',\n",
              "  'free sulfur dioxide',\n",
              "  'total sulfur dioxide',\n",
              "  'density',\n",
              "  'pH',\n",
              "  'sulphates',\n",
              "  'alcohol',\n",
              "  'quality'])"
            ]
          },
          "metadata": {
            "tags": []
          },
          "execution_count": 19
        }
      ]
    },
    {
      "cell_type": "code",
      "metadata": {
        "colab": {
          "base_uri": "https://localhost:8080/"
        },
        "id": "F-2910TloPhW",
        "outputId": "72d7db5a-f1bd-4059-bc3f-e4596af44a99"
      },
      "source": [
        "wineq = torch.from_numpy(wineq_numpy)\r\n",
        "wineq.shape, wineq.dtype"
      ],
      "execution_count": 20,
      "outputs": [
        {
          "output_type": "execute_result",
          "data": {
            "text/plain": [
              "(torch.Size([4898, 12]), torch.float32)"
            ]
          },
          "metadata": {
            "tags": []
          },
          "execution_count": 20
        }
      ]
    },
    {
      "cell_type": "code",
      "metadata": {
        "colab": {
          "base_uri": "https://localhost:8080/"
        },
        "id": "V97ugFHgokI9",
        "outputId": "0e7f68a0-2cee-4624-b87c-9cd400065401"
      },
      "source": [
        "# removing scores from input data\r\n",
        "data = wineq[:, :-1]\r\n",
        "data, data.shape"
      ],
      "execution_count": 23,
      "outputs": [
        {
          "output_type": "execute_result",
          "data": {
            "text/plain": [
              "(tensor([[ 7.0000,  0.2700,  0.3600,  ...,  3.0000,  0.4500,  8.8000],\n",
              "         [ 6.3000,  0.3000,  0.3400,  ...,  3.3000,  0.4900,  9.5000],\n",
              "         [ 8.1000,  0.2800,  0.4000,  ...,  3.2600,  0.4400, 10.1000],\n",
              "         ...,\n",
              "         [ 6.5000,  0.2400,  0.1900,  ...,  2.9900,  0.4600,  9.4000],\n",
              "         [ 5.5000,  0.2900,  0.3000,  ...,  3.3400,  0.3800, 12.8000],\n",
              "         [ 6.0000,  0.2100,  0.3800,  ...,  3.2600,  0.3200, 11.8000]]),\n",
              " torch.Size([4898, 11]))"
            ]
          },
          "metadata": {
            "tags": []
          },
          "execution_count": 23
        }
      ]
    },
    {
      "cell_type": "code",
      "metadata": {
        "colab": {
          "base_uri": "https://localhost:8080/"
        },
        "id": "TLJb_bRUo8vE",
        "outputId": "252d0553-cc62-45a2-e4d8-ad6590d02af6"
      },
      "source": [
        "target = wineq[:, -1]\r\n",
        "target, target.shape"
      ],
      "execution_count": 24,
      "outputs": [
        {
          "output_type": "execute_result",
          "data": {
            "text/plain": [
              "(tensor([6., 6., 6.,  ..., 6., 7., 6.]), torch.Size([4898]))"
            ]
          },
          "metadata": {
            "tags": []
          },
          "execution_count": 24
        }
      ]
    },
    {
      "cell_type": "code",
      "metadata": {
        "colab": {
          "base_uri": "https://localhost:8080/"
        },
        "id": "NbH23FL1pJhV",
        "outputId": "8d82847c-9737-4b4a-bc73-874260460ffd"
      },
      "source": [
        "# considering the target labels as an integer vector of scores\r\n",
        "target = wineq[:, -1].long()\r\n",
        "target"
      ],
      "execution_count": 25,
      "outputs": [
        {
          "output_type": "execute_result",
          "data": {
            "text/plain": [
              "tensor([6, 6, 6,  ..., 6, 7, 6])"
            ]
          },
          "metadata": {
            "tags": []
          },
          "execution_count": 25
        }
      ]
    },
    {
      "cell_type": "code",
      "metadata": {
        "colab": {
          "base_uri": "https://localhost:8080/"
        },
        "id": "zHHTTNtfpcHl",
        "outputId": "473d7174-3bde-4013-eb43-b417b3dd1462"
      },
      "source": [
        "# one-hot encoding the target labels\r\n",
        "target_onehot = torch.zeros(target.shape[0], 10)\r\n",
        "target_onehot.scatter_(1, target.unsqueeze(1), 1.0)"
      ],
      "execution_count": 26,
      "outputs": [
        {
          "output_type": "execute_result",
          "data": {
            "text/plain": [
              "tensor([[0., 0., 0.,  ..., 0., 0., 0.],\n",
              "        [0., 0., 0.,  ..., 0., 0., 0.],\n",
              "        [0., 0., 0.,  ..., 0., 0., 0.],\n",
              "        ...,\n",
              "        [0., 0., 0.,  ..., 0., 0., 0.],\n",
              "        [0., 0., 0.,  ..., 1., 0., 0.],\n",
              "        [0., 0., 0.,  ..., 0., 0., 0.]])"
            ]
          },
          "metadata": {
            "tags": []
          },
          "execution_count": 26
        }
      ]
    },
    {
      "cell_type": "code",
      "metadata": {
        "colab": {
          "base_uri": "https://localhost:8080/"
        },
        "id": "Bbjfn7f3p7Bt",
        "outputId": "60d0f80c-82bf-48d5-c626-5d1bf06f4856"
      },
      "source": [
        "target.shape"
      ],
      "execution_count": 27,
      "outputs": [
        {
          "output_type": "execute_result",
          "data": {
            "text/plain": [
              "torch.Size([4898])"
            ]
          },
          "metadata": {
            "tags": []
          },
          "execution_count": 27
        }
      ]
    },
    {
      "cell_type": "code",
      "metadata": {
        "colab": {
          "base_uri": "https://localhost:8080/"
        },
        "id": "8lY6Wg-_p8zD",
        "outputId": "a1bbf980-e607-4d74-b255-2e23a8c96eff"
      },
      "source": [
        "target_unsqueezed = target.unsqueeze(1)\r\n",
        "target_unsqueezed"
      ],
      "execution_count": 28,
      "outputs": [
        {
          "output_type": "execute_result",
          "data": {
            "text/plain": [
              "tensor([[6],\n",
              "        [6],\n",
              "        [6],\n",
              "        ...,\n",
              "        [6],\n",
              "        [7],\n",
              "        [6]])"
            ]
          },
          "metadata": {
            "tags": []
          },
          "execution_count": 28
        }
      ]
    },
    {
      "cell_type": "code",
      "metadata": {
        "colab": {
          "base_uri": "https://localhost:8080/"
        },
        "id": "eS_leKzZqYU0",
        "outputId": "af2dd886-cf16-490c-d676-c86c126ca67f"
      },
      "source": [
        "data_mean = torch.mean(data, dim=0)\r\n",
        "data_mean"
      ],
      "execution_count": 29,
      "outputs": [
        {
          "output_type": "execute_result",
          "data": {
            "text/plain": [
              "tensor([6.8548e+00, 2.7824e-01, 3.3419e-01, 6.3914e+00, 4.5772e-02, 3.5308e+01,\n",
              "        1.3836e+02, 9.9403e-01, 3.1883e+00, 4.8985e-01, 1.0514e+01])"
            ]
          },
          "metadata": {
            "tags": []
          },
          "execution_count": 29
        }
      ]
    },
    {
      "cell_type": "code",
      "metadata": {
        "colab": {
          "base_uri": "https://localhost:8080/"
        },
        "id": "OoNMBSaFq7le",
        "outputId": "79c7ef1e-0c52-45fe-eb39-53e2e3a39b44"
      },
      "source": [
        "data_var = torch.var(data, dim=0)\r\n",
        "data_var"
      ],
      "execution_count": 30,
      "outputs": [
        {
          "output_type": "execute_result",
          "data": {
            "text/plain": [
              "tensor([7.1211e-01, 1.0160e-02, 1.4646e-02, 2.5726e+01, 4.7733e-04, 2.8924e+02,\n",
              "        1.8061e+03, 8.9455e-06, 2.2801e-02, 1.3025e-02, 1.5144e+00])"
            ]
          },
          "metadata": {
            "tags": []
          },
          "execution_count": 30
        }
      ]
    },
    {
      "cell_type": "code",
      "metadata": {
        "colab": {
          "base_uri": "https://localhost:8080/"
        },
        "id": "McTewN0RrAIy",
        "outputId": "429ccd05-05ee-4fb9-f2db-d80c20ea2fb3"
      },
      "source": [
        "data_normalized = (data - data_mean) / torch.sqrt(data_var)\r\n",
        "data_normalized"
      ],
      "execution_count": 32,
      "outputs": [
        {
          "output_type": "execute_result",
          "data": {
            "text/plain": [
              "tensor([[ 1.7208e-01, -8.1761e-02,  2.1326e-01,  ..., -1.2468e+00,\n",
              "         -3.4915e-01, -1.3930e+00],\n",
              "        [-6.5743e-01,  2.1587e-01,  4.7996e-02,  ...,  7.3995e-01,\n",
              "          1.3422e-03, -8.2419e-01],\n",
              "        [ 1.4756e+00,  1.7450e-02,  5.4378e-01,  ...,  4.7505e-01,\n",
              "         -4.3677e-01, -3.3663e-01],\n",
              "        ...,\n",
              "        [-4.2043e-01, -3.7940e-01, -1.1915e+00,  ..., -1.3130e+00,\n",
              "         -2.6153e-01, -9.0545e-01],\n",
              "        [-1.6054e+00,  1.1666e-01, -2.8253e-01,  ...,  1.0049e+00,\n",
              "         -9.6251e-01,  1.8574e+00],\n",
              "        [-1.0129e+00, -6.7703e-01,  3.7852e-01,  ...,  4.7505e-01,\n",
              "         -1.4882e+00,  1.0448e+00]])"
            ]
          },
          "metadata": {
            "tags": []
          },
          "execution_count": 32
        }
      ]
    },
    {
      "cell_type": "markdown",
      "metadata": {
        "id": "6mdQhfqhrMqg"
      },
      "source": [
        "### Finding thresholds"
      ]
    },
    {
      "cell_type": "code",
      "metadata": {
        "colab": {
          "base_uri": "https://localhost:8080/"
        },
        "id": "WauMuzI2rGL7",
        "outputId": "9aab4cd4-c1c7-4605-f93d-d90fe2a658c7"
      },
      "source": [
        "bad_indexes = target <= 3\r\n",
        "bad_indexes.shape, bad_indexes.dtype, bad_indexes.sum()"
      ],
      "execution_count": 33,
      "outputs": [
        {
          "output_type": "execute_result",
          "data": {
            "text/plain": [
              "(torch.Size([4898]), torch.bool, tensor(20))"
            ]
          },
          "metadata": {
            "tags": []
          },
          "execution_count": 33
        }
      ]
    },
    {
      "cell_type": "code",
      "metadata": {
        "colab": {
          "base_uri": "https://localhost:8080/"
        },
        "id": "D6hULhBgrWaL",
        "outputId": "0751aab7-8d72-4452-8595-0c3d52aaeb11"
      },
      "source": [
        "# We can use a tensor with data type torch.bool to index the data tensor\r\n",
        "# filtering the data to items corresponding to True in the indexing tensor\r\n",
        "bad_data = data[bad_indexes]\r\n",
        "bad_data.shape"
      ],
      "execution_count": 34,
      "outputs": [
        {
          "output_type": "execute_result",
          "data": {
            "text/plain": [
              "torch.Size([20, 11])"
            ]
          },
          "metadata": {
            "tags": []
          },
          "execution_count": 34
        }
      ]
    },
    {
      "cell_type": "code",
      "metadata": {
        "id": "vdkMvMHdrvH3"
      },
      "source": [
        "bad_data = data[target <= 3]\r\n",
        "mid_data = data[(target > 3) & (target < 7)]\r\n",
        "good_data = data[target >= 7]"
      ],
      "execution_count": 35,
      "outputs": []
    },
    {
      "cell_type": "code",
      "metadata": {
        "id": "dGsuBeKmtTQA"
      },
      "source": [
        "bad_mean = torch.mean(bad_data, dim=0)\r\n",
        "mid_mean = torch.mean(mid_data, dim=0)\r\n",
        "good_mean = torch.mean(good_data, dim=0)"
      ],
      "execution_count": 37,
      "outputs": []
    },
    {
      "cell_type": "code",
      "metadata": {
        "colab": {
          "base_uri": "https://localhost:8080/"
        },
        "id": "F3ztVRqBtcgY",
        "outputId": "226df328-0548-4338-c01a-b7a8402b5f41"
      },
      "source": [
        "for i, args in enumerate(zip(col_list, bad_mean, mid_mean, good_mean)):\r\n",
        "    print('{:2} {:20} {:6.2f} {:6.2f} {:6.2f}'.format(i, *args))"
      ],
      "execution_count": 38,
      "outputs": [
        {
          "output_type": "stream",
          "text": [
            " 0 fixed acidity          7.60   6.89   6.73\n",
            " 1 volatile acidity       0.33   0.28   0.27\n",
            " 2 citric acid            0.34   0.34   0.33\n",
            " 3 residual sugar         6.39   6.71   5.26\n",
            " 4 chlorides              0.05   0.05   0.04\n",
            " 5 free sulfur dioxide   53.33  35.42  34.55\n",
            " 6 total sulfur dioxide 170.60 141.83 125.25\n",
            " 7 density                0.99   0.99   0.99\n",
            " 8 pH                     3.19   3.18   3.22\n",
            " 9 sulphates              0.47   0.49   0.50\n",
            "10 alcohol               10.34  10.26  11.42\n"
          ],
          "name": "stdout"
        }
      ]
    },
    {
      "cell_type": "code",
      "metadata": {
        "colab": {
          "base_uri": "https://localhost:8080/"
        },
        "id": "u83IjCktts_X",
        "outputId": "dd554826-4cd1-40d8-e854-e3af93a07cf0"
      },
      "source": [
        "total_sulfur_threshold = 141.83\r\n",
        "total_sulfur_data = data[:, 6]\r\n",
        "predicted_indexes = torch.lt(total_sulfur_data, total_sulfur_threshold)\r\n",
        "\r\n",
        "predicted_indexes.shape, predicted_indexes.dtype, predicted_indexes.sum()"
      ],
      "execution_count": 39,
      "outputs": [
        {
          "output_type": "execute_result",
          "data": {
            "text/plain": [
              "(torch.Size([4898]), torch.bool, tensor(2727))"
            ]
          },
          "metadata": {
            "tags": []
          },
          "execution_count": 39
        }
      ]
    },
    {
      "cell_type": "code",
      "metadata": {
        "colab": {
          "base_uri": "https://localhost:8080/"
        },
        "id": "O2GA3sRyyfuO",
        "outputId": "6fa4c7f0-8859-493a-9790-342c656c2c3b"
      },
      "source": [
        "actual_indexes = target > 5 \r\n",
        "actual_indexes.shape, actual_indexes.dtype, actual_indexes.sum()"
      ],
      "execution_count": 40,
      "outputs": [
        {
          "output_type": "execute_result",
          "data": {
            "text/plain": [
              "(torch.Size([4898]), torch.bool, tensor(3258))"
            ]
          },
          "metadata": {
            "tags": []
          },
          "execution_count": 40
        }
      ]
    },
    {
      "cell_type": "code",
      "metadata": {
        "colab": {
          "base_uri": "https://localhost:8080/"
        },
        "id": "5Aalis4byl98",
        "outputId": "4a8ac5db-e279-4bd0-fdf3-8d9bc83e476a"
      },
      "source": [
        "n_matches = torch.sum(actual_indexes & predicted_indexes).item() \r\n",
        "n_predicted = torch.sum(predicted_indexes).item() \r\n",
        "n_actual = torch.sum(actual_indexes).item() \r\n",
        "n_matches, n_matches / n_predicted, n_matches / n_actual"
      ],
      "execution_count": 41,
      "outputs": [
        {
          "output_type": "execute_result",
          "data": {
            "text/plain": [
              "(2018, 0.74000733406674, 0.6193984039287906)"
            ]
          },
          "metadata": {
            "tags": []
          },
          "execution_count": 41
        }
      ]
    },
    {
      "cell_type": "markdown",
      "metadata": {
        "id": "Xx9H0v-ty0W_"
      },
      "source": [
        "## Working with time series"
      ]
    },
    {
      "cell_type": "code",
      "metadata": {
        "colab": {
          "base_uri": "https://localhost:8080/"
        },
        "id": "f9lfDAwayxZc",
        "outputId": "e385510c-4dff-4808-c052-41ead3fd1402"
      },
      "source": [
        "path = '/content/drive/MyDrive/PyTorch/Deep Learning with PyTorch Book/Chapter-4/data/bike-sharing-dataset/hour-fixed.csv'\r\n",
        "bikes_numpy = np.loadtxt(path, dtype=np.float32,\r\n",
        "                         delimiter=',',\r\n",
        "                         skiprows=1,\r\n",
        "                         converters={1: lambda x: float(x[8:10])})\r\n",
        "\r\n",
        "bikes = torch.from_numpy(bikes_numpy)\r\n",
        "bikes"
      ],
      "execution_count": 43,
      "outputs": [
        {
          "output_type": "execute_result",
          "data": {
            "text/plain": [
              "tensor([[1.0000e+00, 1.0000e+00, 1.0000e+00,  ..., 3.0000e+00, 1.3000e+01,\n",
              "         1.6000e+01],\n",
              "        [2.0000e+00, 1.0000e+00, 1.0000e+00,  ..., 8.0000e+00, 3.2000e+01,\n",
              "         4.0000e+01],\n",
              "        [3.0000e+00, 1.0000e+00, 1.0000e+00,  ..., 5.0000e+00, 2.7000e+01,\n",
              "         3.2000e+01],\n",
              "        ...,\n",
              "        [1.7377e+04, 3.1000e+01, 1.0000e+00,  ..., 7.0000e+00, 8.3000e+01,\n",
              "         9.0000e+01],\n",
              "        [1.7378e+04, 3.1000e+01, 1.0000e+00,  ..., 1.3000e+01, 4.8000e+01,\n",
              "         6.1000e+01],\n",
              "        [1.7379e+04, 3.1000e+01, 1.0000e+00,  ..., 1.2000e+01, 3.7000e+01,\n",
              "         4.9000e+01]])"
            ]
          },
          "metadata": {
            "tags": []
          },
          "execution_count": 43
        }
      ]
    },
    {
      "cell_type": "code",
      "metadata": {
        "colab": {
          "base_uri": "https://localhost:8080/"
        },
        "id": "6Cm4JaL1zkgX",
        "outputId": "f591e8d5-30ae-4068-aaf5-b863d658d96a"
      },
      "source": [
        "bikes.shape, bikes.stride()"
      ],
      "execution_count": 44,
      "outputs": [
        {
          "output_type": "execute_result",
          "data": {
            "text/plain": [
              "(torch.Size([17520, 17]), (17, 1))"
            ]
          },
          "metadata": {
            "tags": []
          },
          "execution_count": 44
        }
      ]
    },
    {
      "cell_type": "code",
      "metadata": {
        "colab": {
          "base_uri": "https://localhost:8080/"
        },
        "id": "9j3m9dCL02WQ",
        "outputId": "3fb82e32-ff86-4449-f174-64b5c12fdab2"
      },
      "source": [
        "daily_bikes = bikes.view(-1, 24, bikes.shape[1])\r\n",
        "daily_bikes.shape, daily_bikes.stride()"
      ],
      "execution_count": 45,
      "outputs": [
        {
          "output_type": "execute_result",
          "data": {
            "text/plain": [
              "(torch.Size([730, 24, 17]), (408, 17, 1))"
            ]
          },
          "metadata": {
            "tags": []
          },
          "execution_count": 45
        }
      ]
    },
    {
      "cell_type": "markdown",
      "metadata": {
        "id": "iGTJKtmq1DYa"
      },
      "source": [
        "### Revisiting this chapter later ...."
      ]
    }
  ]
}